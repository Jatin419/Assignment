{
 "cells": [
  {
   "cell_type": "code",
   "execution_count": null,
   "id": "003afcd3-dfa0-407e-8bb7-85e2bc67d9dd",
   "metadata": {},
   "outputs": [],
   "source": [
    "#Ans1.\n",
    "GET and POST are two commonly used HTTP methods used for requesting and submitting data between a client (such as a web browser) and a server.\n",
    "GET-\n",
    "The GET method is used to request data from the server.\n",
    "When a client sends a GET request, it includes any necessary parameters in the URL.\n",
    "The GET method is often used for retrieving data that is already available on the server, such as web pages, images, or other files.\n",
    "POST-\n",
    "The POST method is used to submit data to the server. When a client sends a POST request, it includes the necessary data in the request body instead of the URL. \n",
    "The POST method is often used for submitting data that will be stored on the server, such as form submissions or updates to a database."
   ]
  },
  {
   "cell_type": "code",
   "execution_count": null,
   "id": "c32ef5b7-e290-45fd-961a-411ed93a16be",
   "metadata": {},
   "outputs": [],
   "source": [
    "#Ans2.\n",
    "The Request, in Flask, is an object that contains all the data sent from the Client to Server. This data can be recovered using the GET/POST Methods. \n",
    "POST is used when your application expects user input to be received by command or an HTTP request, while GET gets all the information before it even has a chance for submission"
   ]
  },
  {
   "cell_type": "code",
   "execution_count": null,
   "id": "4f375a8d-fb81-4c62-aba2-ff0b14086d56",
   "metadata": {},
   "outputs": [],
   "source": [
    "#Ans3.\n",
    "An HTTP status code is a response from the server to the request of the browser. When we visit a website, a request is sent to the server, and the server then responds to the browser's request with a three-digit code: the HTTP status code.\n",
    " \n",
    "Flask.redirect(<location>,<status-code>, <response> )  \n"
   ]
  },
  {
   "cell_type": "code",
   "execution_count": null,
   "id": "1b728214-83ba-437d-bb6e-cd161e6cbeba",
   "metadata": {},
   "outputs": [],
   "source": [
    "#Ans4.\n"
   ]
  }
 ],
 "metadata": {
  "kernelspec": {
   "display_name": "Python 3 (ipykernel)",
   "language": "python",
   "name": "python3"
  },
  "language_info": {
   "codemirror_mode": {
    "name": "ipython",
    "version": 3
   },
   "file_extension": ".py",
   "mimetype": "text/x-python",
   "name": "python",
   "nbconvert_exporter": "python",
   "pygments_lexer": "ipython3",
   "version": "3.10.6"
  }
 },
 "nbformat": 4,
 "nbformat_minor": 5
}
