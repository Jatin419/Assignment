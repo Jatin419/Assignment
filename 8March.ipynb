{
 "cells": [
  {
   "cell_type": "code",
   "execution_count": null,
   "id": "7013bd53-aa33-4269-9c12-375b6c21eb7d",
   "metadata": {},
   "outputs": [],
   "source": [
    "#Ans1.\n",
    "A probability density function (PDF) is a function that describes the probability of a continuous random variable taking on a specific value.\n",
    "The PDF is a useful tool for understanding the distribution of a continuous random variable."
   ]
  },
  {
   "cell_type": "code",
   "execution_count": null,
   "id": "995091e4-ee46-4ad3-90be-19b30ec3a12c",
   "metadata": {},
   "outputs": [],
   "source": [
    "#Ans2.\n",
    "There are different types of probability distribution that are:\n",
    "    1.Uniform Distribution\n",
    "    2.Normal Distribution (Gaussian Distribution)\n",
    "    3.Exponential Distribution\n",
    "    4.Poisson Distribution\n",
    "    5.Binomial Distribution"
   ]
  },
  {
   "cell_type": "code",
   "execution_count": null,
   "id": "2270ddb2-2daf-4953-afac-f55aa6f70c6a",
   "metadata": {},
   "outputs": [],
   "source": [
    "#Ans3.\n"
   ]
  },
  {
   "cell_type": "code",
   "execution_count": null,
   "id": "e8ae12e5-91ee-4369-b224-a2a81cac8cef",
   "metadata": {},
   "outputs": [],
   "source": [
    "#Ans4.\n",
    "The properties of the binomial distribution are:\n",
    "\n",
    "-->There are a fixed number of trials. This means that the number of trials cannot change. For example, if you are flipping a coin 10 times, the number of trials is always 10.\n",
    "-->Each trial is independent. This means that the outcome of one trial does not affect the outcome of another trial. For example, if you flip a coin and get heads, the probability of getting heads on the next flip is still 50%.\n",
    "-->There are only two possible outcomes for each trial. This means that each trial can only result in a success or a failure. For example, if you are flipping a coin, the possible outcomes are heads and tails.\n",
    "-->Two Possible Outcomes: Each trial has only two possible outcomes: success or failure.\n"
   ]
  },
  {
   "cell_type": "code",
   "execution_count": 1,
   "id": "0ef8eb6a-d3a7-4830-9d8a-fe49ae9207e3",
   "metadata": {},
   "outputs": [
    {
     "data": {
      "image/png": "[encoded data removed]",
      "text/plain": [
       "<Figure size 640x480 with 1 Axes>"
      ]
     },
     "metadata": {},
     "output_type": "display_data"
    }
   ],
   "source": [
    "#Ans5.\n",
    "import numpy as np\n",
    "import matplotlib.pyplot as plt\n",
    "\n",
    "\n",
    "n = 1000 \n",
    "sample = np.random.binomial(n, p, size=1000)\n",
    "\n",
    "\n",
    "plt.hist(sample, bins='auto', alpha=0.7, rwidth=0.85)\n",
    "plt.grid(axis='y', alpha=0.5)\n",
    "plt.xlabel('Number of Successes')\n",
    "plt.ylabel('Frequency')\n",
    "plt.title('Histogram of Binomial Distribution')\n",
    "plt.show()\n"
   ]
  },
  {
   "cell_type": "code",
   "execution_count": 3,
   "id": "00137543-0563-4fd8-948d-53ae099c937c",
   "metadata": {},
   "outputs": [
    {
     "name": "stdout",
     "output_type": "stream",
     "text": [
      "CDF at k = 4 is 0.8911780189141512\n"
     ]
    }
   ],
   "source": [
    "#Ans6.\n",
    "import math\n",
    "\n",
    "def poisson_cdf(k, mean):\n",
    "    cdf = 0\n",
    "    for i in range(k + 1):\n",
    "        cdf += math.exp(-mean) * (mean ** i) / math.factorial(i)\n",
    "    return cdf\n",
    "\n",
    "mean = 2.5\n",
    "k = 4\n",
    "\n",
    "cdf_value = poisson_cdf(k, mean)\n",
    "print(\"CDF at k =\", k, \"is\", cdf_value)\n"
   ]
  },
  {
   "cell_type": "code",
   "execution_count": null,
   "id": "77ff7dc0-75b6-4a5c-8cb2-fe49f31dd841",
   "metadata": {},
   "outputs": [],
   "source": [
    "#Ans7.\n",
    "The binomial distribution and the Poisson distribution are both discrete probability distributions that are used to model the number of successes in a series of trials.\n",
    "\n",
    "The binomial distribution has a fixed number of trials, while the Poisson distribution does not.\n",
    "The binomial distribution has two possible outcomes for each trial, while the Poisson distribution can have any number of possible outcomes. \n",
    "The binomial distribution is a discrete distribution, while the Poisson distribution is a continuous distribution. \n"
   ]
  },
  {
   "cell_type": "code",
   "execution_count": 4,
   "id": "481da03d-b454-4a59-bb71-3ffb7cdffa26",
   "metadata": {},
   "outputs": [
    {
     "name": "stdout",
     "output_type": "stream",
     "text": [
      "Sample mean: 5.037\n",
      "Sample variance: 4.969631\n"
     ]
    }
   ],
   "source": [
    "#Ans8.\n",
    "import numpy as np\n",
    "\n",
    "# Generate a random sample of size 1000 from a Poisson distribution with mean 5\n",
    "sample = np.random.poisson(5, 1000)\n",
    "\n",
    "# Calculate the sample mean and variance\n",
    "mean = np.mean(sample)\n",
    "variance = np.var(sample)\n",
    "\n",
    "print(\"Sample mean:\", mean)\n",
    "print(\"Sample variance:\", variance)\n"
   ]
  },
  {
   "cell_type": "code",
   "execution_count": null,
   "id": "8e9ab5ea-c297-4702-bcf9-1c3f0ad456f5",
   "metadata": {},
   "outputs": [],
   "source": [
    "#Ans9.\n",
    "In both the binomial distribution and the Poisson distribution, the mean and variance are related, but the nature of their relationship differs.\n",
    "\n",
    "n the binomial distribution, the mean is equal to the number of trials multiplied by the probability of success. The variance is equal to the mean multiplied by the probability of success multiplied by the probability of failure.\n",
    "\n",
    "In the Poisson distribution, the mean is equal to the average number of events that occur in a given time interval. The variance is also equal to the mean."
   ]
  },
  {
   "cell_type": "code",
   "execution_count": null,
   "id": "3766bebb-c612-4642-bfff-fb490c8e2711",
   "metadata": {},
   "outputs": [],
   "source": [
    "#Ans10.\n",
    "\n",
    "In a normal distribution, the least frequent data appears farthest from the mean. This is because the normal distribution is symmetrical, with the mean in the center.\n",
    "\n",
    "The tails of the distribution represent the extreme values, which occur less frequently compared to the values closer to the mean.\n"
   ]
  }
 ],
 "metadata": {
  "kernelspec": {
   "display_name": "Python 3 (ipykernel)",
   "language": "python",
   "name": "python3"
  },
  "language_info": {
   "codemirror_mode": {
    "name": "ipython",
    "version": 3
   },
   "file_extension": ".py",
   "mimetype": "text/x-python",
   "name": "python",
   "nbconvert_exporter": "python",
   "pygments_lexer": "ipython3",
   "version": "3.10.6"
  }
 },
 "nbformat": 4,
 "nbformat_minor": 5
}
