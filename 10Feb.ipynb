{
 "cells": [
  {
   "cell_type": "code",
   "execution_count": null,
   "id": "45411557-585a-4ca5-892c-1e8c9e693545",
   "metadata": {},
   "outputs": [],
   "source": [
    "#Ans1.\n",
    "The open() function is used to open a file.\n",
    "The different modes of opening a file are:\n",
    "    1.r\n",
    "    2.w\n",
    "    3.a\n",
    "    4.b\n",
    "    5.+\n",
    "The function of different modes of openinf a file are:\n",
    "    1.r: This mode is used to open a file in read mode\n",
    "    2.w: This mode is used to open or create a text file in write mode\n",
    "    3.a: This mode is used to open a file in append mode\n",
    "    4.b: This mode is used for opening a file in binary mode.\n",
    "    5.+: This mode is used for opening a file for both reading and writing.\n",
    "    "
   ]
  },
  {
   "cell_type": "code",
   "execution_count": null,
   "id": "ffbf54bd-7fdf-41dc-9542-ca467570ff1b",
   "metadata": {},
   "outputs": [],
   "source": [
    "#Ans2.\n",
    "The close() function is used to close a file after it has been opened in a program. \n",
    "It is important to close a file because when a file is opened, it is loaded into the computer's memory, and if it is not closed properly, it can lead to memory leaks and other issues that can affect the performance of the program and the computer as a whole."
   ]
  },
  {
   "cell_type": "code",
   "execution_count": 7,
   "id": "ef16cdae-eb88-4475-bea4-83306e49f876",
   "metadata": {},
   "outputs": [],
   "source": [
    "#Ans3.\n",
    "with open(\"data_scientist.txt\",\"w\") as f:\n",
    "    f.write(\"I want to became a data scientist\")\n",
    "    \n",
    "with open(\"data_scientist.txt\",\"r\") as f:\n",
    "    content = f.read()"
   ]
  },
  {
   "cell_type": "code",
   "execution_count": 6,
   "id": "689229b2-4c8a-4f3d-a82b-1493b8ba158a",
   "metadata": {},
   "outputs": [
    {
     "data": {
      "text/plain": [
       "'I want to became a data scientist'"
      ]
     },
     "execution_count": 6,
     "metadata": {},
     "output_type": "execute_result"
    }
   ],
   "source": [
    "content"
   ]
  },
  {
   "cell_type": "code",
   "execution_count": null,
   "id": "64f6c235-8b65-4d0c-94dc-5234a5e93a5f",
   "metadata": {},
   "outputs": [],
   "source": [
    "#Ans4.\n",
    "1.read(): The read() method reads the entire contents of a file and returns it as a string.\n",
    "Ex:\n",
    "with open('example.txt', 'r') as f:\n",
    "    content = f.read()\n",
    "    \n",
    "2.readline(): The readline() method reads a single line from a file and returns it as a string.\n",
    "Ex:\n",
    "with open('example.txt', 'r') as f:\n",
    "    line = f.readline()\n",
    "    while line:\n",
    "        print(line)\n",
    "        line = f.readline()\n",
    "        \n",
    "3.readlines(): The readlines() method reads all the lines of a file and returns them as a list of strings.\n",
    "Ex:\n",
    "with open('example.txt', 'r') as f:\n",
    "    lines = f.readlines()\n",
    "print(lines)\n"
   ]
  },
  {
   "cell_type": "code",
   "execution_count": null,
   "id": "1999664b-7cbe-4d98-a0a1-d91f0d1f6499",
   "metadata": {},
   "outputs": [],
   "source": [
    "#Ans5.\n",
    "The with statement works with the open() function to open a file.\n",
    "\n",
    "The advantages of using with statement and open() together are:\n",
    "The advantage of using the with statement with open() method is that it simplifies the code and makes it more readable. "
   ]
  },
  {
   "cell_type": "code",
   "execution_count": 21,
   "id": "aab43f29-3bce-461d-abfc-8fd7df450fd1",
   "metadata": {},
   "outputs": [],
   "source": [
    "#Ans6.\n",
    "1.write(): The write() method writes a string to a file.\n",
    "with open('python007.txt', 'w') as f:\n",
    "   # f.write('This is an example.\\n')\n",
    "    f.write('Python is hard')\n",
    "with open(\"python007.txt\",'r') as f:\n",
    "    content = f.read()\n",
    "\n",
    "2.writelines(): The writelines() method writes a list of strings to a file.\n",
    "Ex:\n",
    "write_lines = ['Python is not easy.\\n','I want to became a data scientist \\n']\n",
    "with open('py.txt', 'w') as f:\n",
    "    f.writelines(write_lines)\n"
   ]
  },
  {
   "cell_type": "code",
   "execution_count": 22,
   "id": "adf34e05-4c95-43be-9922-ab93beaf2b4f",
   "metadata": {},
   "outputs": [
    {
     "data": {
      "text/plain": [
       "'Python is hard'"
      ]
     },
     "execution_count": 22,
     "metadata": {},
     "output_type": "execute_result"
    }
   ],
   "source": [
    "content"
   ]
  },
  {
   "cell_type": "code",
   "execution_count": null,
   "id": "49d30024-8a79-4648-80bb-311200cd9946",
   "metadata": {},
   "outputs": [],
   "source": []
  }
 ],
 "metadata": {
  "kernelspec": {
   "display_name": "Python 3 (ipykernel)",
   "language": "python",
   "name": "python3"
  },
  "language_info": {
   "codemirror_mode": {
    "name": "ipython",
    "version": 3
   },
   "file_extension": ".py",
   "mimetype": "text/x-python",
   "name": "python",
   "nbconvert_exporter": "python",
   "pygments_lexer": "ipython3",
   "version": "3.10.6"
  }
 },
 "nbformat": 4,
 "nbformat_minor": 5
}
