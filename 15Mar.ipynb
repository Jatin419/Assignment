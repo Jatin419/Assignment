{
 "cells": [
  {
   "cell_type": "code",
   "execution_count": null,
   "id": "dd94a0ca-73fb-481b-a725-b0e2541e5a5d",
   "metadata": {},
   "outputs": [],
   "source": [
    "#Ans1.\n",
    "1.Artificial Intelligence refers to the ability of machines to perform tasks that usually require human intelligence, such as learning, reasoning, perception, and problem-solving. AI involves developing algorithms and computer programs that can perform these tasks, often based on machine learning techniques.\n",
    "Example:\n",
    "    One example of AI is the use of Self-driving cars,Smart assistants etc.\n",
    "2.Machine Learning is a subset of AI that involves training algorithms to learn patterns and insights from data. In ML, algorithms learn from the input data and improve their performance over time without being explicitly programmed.\n",
    "Example:\n",
    "     One example of ML is the use of Speech and Image recognition,Google Transalation etc.\n",
    "3.: Deep Learning is a subset of ML that uses artificial neural networks to model and solve complex problems. Deep Learning algorithms are inspired by the structure and function of the human brain and can learn and improve performance on tasks such as image recognition and natural language processing.\n",
    "Example:\n",
    "     One example of ML is the use of deep neural networks for image recognition in social media apps like Facebook."
   ]
  },
  {
   "cell_type": "code",
   "execution_count": 1,
   "id": "a86091ae-8ba0-437b-82bd-cba0ba39ff74",
   "metadata": {},
   "outputs": [
    {
     "ename": "SyntaxError",
     "evalue": "invalid syntax (1719345067.py, line 2)",
     "output_type": "error",
     "traceback": [
      "\u001b[0;36m  Cell \u001b[0;32mIn [1], line 2\u001b[0;36m\u001b[0m\n\u001b[0;31m    Supervised Learning is a type of machine learning where the algorithm learns from labeled training data to make predictions or decisions. In supervised learning, the input data is paired with corresponding target labels or outcomes.\u001b[0m\n\u001b[0m               ^\u001b[0m\n\u001b[0;31mSyntaxError\u001b[0m\u001b[0;31m:\u001b[0m invalid syntax\n"
     ]
    }
   ],
   "source": [
    "#Ans2.\n",
    "Supervised Learning is a type of machine learning where the algorithm learns from labeled training data to make predictions or decisions. In supervised learning, the input data is paired with corresponding target labels or outcomes.\n",
    "Example:\n",
    "    Email Spam Classification\n",
    "    Handwritten Digit Recognition\n",
    "    Sentiment Analysis"
   ]
  },
  {
   "cell_type": "code",
   "execution_count": null,
   "id": "135d4cb6-fdf3-45b9-a255-407adb2c9271",
   "metadata": {},
   "outputs": [],
   "source": [
    "#Ans3.\n",
    "Unsupervised Learning is a type of machine learning where the algorithm learns patterns and relationships in the data without being provided with explicit labels or outcomes. Unlike supervised learning, unsupervised learning does not have predefined target variables or known correct answers.\n",
    "Example:\n",
    "    Clustering\n",
    "    Market Basket Analysis"
   ]
  },
  {
   "cell_type": "code",
   "execution_count": null,
   "id": "6bddfc51-f12e-4fb3-8ac2-b47007ae0494",
   "metadata": {},
   "outputs": [],
   "source": [
    "#Ans4.\n",
    "Artificial Intelligence (AI): AI refers to the broader concept of creating intelligent machines that can simulate human intelligence and perform tasks that typically require human intelligence, such as problem-solving, learning, reasoning, and decision-making. \n",
    "Machine Learning AI that focuses on developing algorithms and models that enable computers to learn from data and make predictions or decisions without being explicitly programmed. ML algorithms learn from labeled or unlabeled data and use statistical techniques to identify patterns, relationships, and insights.\n",
    "Deep Learning is a subset of ML that is inspired by the structure and function of the human brain. DL models, known as artificial neural networks, consist of multiple layers of interconnected nodes (neurons) that process and transform input data."
   ]
  },
  {
   "cell_type": "code",
   "execution_count": null,
   "id": "680b5ab0-c7dc-4400-a574-23a969637d8a",
   "metadata": {},
   "outputs": [],
   "source": [
    "#Ans5.\n",
    "Supervised Learning:\n",
    "\n",
    "-->In supervised learning, the algorithm is trained on labeled data, where each data point is associated with a corresponding target label or outcome.\n",
    "-->The goal of supervised learning is to learn a mapping function that can predict the correct label for unseen or future inputs.\n",
    "\n",
    "Unsupervised Learning:\n",
    "\n",
    "-->In unsupervised learning, the algorithm is trained on unlabeled data, meaning there are no explicit target labels or outcomes.\n",
    "-->The objective is to discover hidden patterns, structures, or relationships within the data.\n",
    "\n",
    "Semi-supervised Learning:\n",
    "\n",
    "-->Semi-supervised learning falls between supervised and unsupervised learning.\n",
    "-->It leverages a combination of labeled and unlabeled data for training.\n"
   ]
  },
  {
   "cell_type": "code",
   "execution_count": null,
   "id": "ae980a44-d59c-4090-ac53-ccb377b94a40",
   "metadata": {},
   "outputs": [],
   "source": [
    "#Ans6.\n",
    "Train:The training set is used to train a model or algorithm. It is the largest portion of the dataset and is used to build and optimize the model by adjusting its parameters based on the provided input data.\n",
    "Test:The test set is used to evaluate the performance of the trained model. It is used to assess how well the model generalizes to new, unseen data. \n",
    "Validation Split:The validation set is a subset of the data that is used to fine-tune the model and select the best-performing version. It helps in preventing overfitting, which occurs when a model performs well on the training data but poorly on new data. "
   ]
  },
  {
   "cell_type": "code",
   "execution_count": null,
   "id": "d97b725e-632d-4fa7-a4ac-7dbf6d73957d",
   "metadata": {},
   "outputs": [],
   "source": [
    "#Ans7.\n",
    "Unsupervised learning can be used in anomaly detection to identify patterns or instances that deviate significantly from the norm or expected behavior within a dataset. \n"
   ]
  },
  {
   "cell_type": "code",
   "execution_count": null,
   "id": "5dcf9d7f-d14c-4f16-a425-f87a149777af",
   "metadata": {},
   "outputs": [],
   "source": [
    "#Ans8.\n",
    "Supervised Learning Algorithms:\n",
    "\n",
    "Linear Regression\n",
    "Logistic Regression\n",
    "Decision Trees\n",
    "Random Forests\n",
    "Support Vector Machines (SVM)\n",
    "Naive Bayes\n",
    "\n",
    "UnSupervised Learning Algorithms:\n",
    "    \n",
    "K-means Clustering\n",
    "Hierarchical Clustering\n",
    "DBSCAN (Density-Based Spatial Clustering of Applications with Noise)\n",
    "Gaussian Mixture Models (GMM)\n",
    "Principal Component Analysis (PCA)\n",
    "t-Distributed Stochastic Neighbor Embedding (t-SNE)"
   ]
  }
 ],
 "metadata": {
  "kernelspec": {
   "display_name": "Python 3 (ipykernel)",
   "language": "python",
   "name": "python3"
  },
  "language_info": {
   "codemirror_mode": {
    "name": "ipython",
    "version": 3
   },
   "file_extension": ".py",
   "mimetype": "text/x-python",
   "name": "python",
   "nbconvert_exporter": "python",
   "pygments_lexer": "ipython3",
   "version": "3.10.6"
  }
 },
 "nbformat": 4,
 "nbformat_minor": 5
}
