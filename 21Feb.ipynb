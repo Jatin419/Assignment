{
 "cells": [
  {
   "cell_type": "code",
   "execution_count": null,
   "id": "59e9e02e-ddf0-4283-94be-72631e4e693b",
   "metadata": {},
   "outputs": [],
   "source": [
    "#Ans1.\n",
    "Web scraping is the process of automatically extracting data from websites using specialized software tools or programming scripts. \n",
    "The data that is extracted can be in various formats, including text, images, videos, or structured data in formats like JSON or CSV.\n",
    "\n",
    "Web Scrapping is used for data mining, market research, competitive analysis, and lead generation. It is also used to automate certain tasks, such as data entry and content aggregation.\n",
    "\n",
    "1.Social media: Web scraping is used to extract data from social media platforms, including user profiles, posts, comments, and engagement metrics. \n",
    "This information can be used for sentiment analysis, social media monitoring, and influencer marketing.\n",
    "\n",
    "2.E-commerce: Web scraping is used to extract product data from e-commerce websites, including product names, descriptions, prices, and reviews.\n",
    "3.Research: Web scraping is used to collect data for academic research, including analyzing trends in social media"
   ]
  },
  {
   "cell_type": "code",
   "execution_count": null,
   "id": "9d7311ff-c7a6-475f-8d50-23e8ccd6fa87",
   "metadata": {},
   "outputs": [],
   "source": [
    "#Ans2.\n",
    "The different methods used for web scraping are-\n",
    "1.Using web scraping libraries: There are many programming libraries available that make it easy to scrape data from websites\n",
    "2.Google Sheets is a popular tool for data scraping. Scarpers can use the IMPORTXML function in Sheets to scrape from a website, which is useful if they want to extract a specific pattern or data from the website\n",
    "3.Parsing HTML: This method involves using a parser to extract data from HTML pages."
   ]
  },
  {
   "cell_type": "code",
   "execution_count": null,
   "id": "cce9cbe1-3fd3-4627-8a08-181b244b8959",
   "metadata": {},
   "outputs": [],
   "source": [
    "#Ans3.\n",
    "Beautiful Soup is a popular Python library used for web scraping. It provides a set of tools for parsing HTML and XML documents and extracting data from them. \n",
    "Beautiful Soup can handle poorly formatted HTML code and can be used to extract data from complex websites.\n",
    "\n",
    "Beautiful Soup is used for web scraping because it provides a simple and efficient way to extract data from HTML and XML documents.\n",
    "One of the main benefits of using Beautiful Soup for web scraping is that it can handle poorly formatted HTML code."
   ]
  },
  {
   "cell_type": "code",
   "execution_count": null,
   "id": "392c0b0c-da03-4518-b5d6-61a9cf5cfd9b",
   "metadata": {},
   "outputs": [],
   "source": [
    "#Ans4.\n",
    "Flask is a popular Python web framework used to build web applications. While Flask is not strictly required for web scraping, it can be used to build a web application that displays the scraped data in a user-friendly way"
   ]
  },
  {
   "cell_type": "code",
   "execution_count": null,
   "id": "de63317b-96c0-424d-a5c3-291fb0e7920a",
   "metadata": {},
   "outputs": [],
   "source": [
    "#Ans5.\n",
    "Some AWS services that are commonly used in web scraping projects -\n",
    "    \n",
    "1.Amazon CloudWatch: CloudWatch is a monitoring and logging service that provides visibility into AWS resources and applications.\n",
    "2.Amazon EC2: EC2 (Elastic Compute Cloud) is a cloud computing service that provides virtual machines that can be used to run applications or store data\n",
    "3.Amazon S3: S3 (Simple Storage Service) is a cloud storage service that provides scalable and durable storage for data. \n"
   ]
  }
 ],
 "metadata": {
  "kernelspec": {
   "display_name": "Python 3 (ipykernel)",
   "language": "python",
   "name": "python3"
  },
  "language_info": {
   "codemirror_mode": {
    "name": "ipython",
    "version": 3
   },
   "file_extension": ".py",
   "mimetype": "text/x-python",
   "name": "python",
   "nbconvert_exporter": "python",
   "pygments_lexer": "ipython3",
   "version": "3.10.6"
  }
 },
 "nbformat": 4,
 "nbformat_minor": 5
}
