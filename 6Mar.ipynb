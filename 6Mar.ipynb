{
 "cells": [
  {
   "cell_type": "code",
   "execution_count": 23,
   "id": "0bf9955a-f2d2-4af0-ba2c-3277d7389c42",
   "metadata": {},
   "outputs": [
    {
     "ename": "SyntaxError",
     "evalue": "invalid syntax (683008429.py, line 1)",
     "output_type": "error",
     "traceback": [
      "\u001b[0;36m  Cell \u001b[0;32mIn [23], line 1\u001b[0;36m\u001b[0m\n\u001b[0;31m    Statistics is a branch of mathematics that deals with the collection, analysis, interpretation, presentation, and organization of data. The primary goal of statistics is to extract meaning from data by identifying patterns, trends, and relationships\u001b[0m\n\u001b[0m                    ^\u001b[0m\n\u001b[0;31mSyntaxError\u001b[0m\u001b[0;31m:\u001b[0m invalid syntax\n"
     ]
    }
   ],
   "source": [
    "#Ans1.\n",
    "Statistics is a branch of mathematics that deals with the collection, analysis, interpretation, presentation, and organization of data. The primary goal of statistics is to extract meaning from data by identifying patterns, trends, and relationships"
   ]
  },
  {
   "cell_type": "code",
   "execution_count": 24,
   "id": "d41adfd2-6f69-4897-ac22-2776ed443dd6",
   "metadata": {},
   "outputs": [
    {
     "ename": "SyntaxError",
     "evalue": "invalid decimal literal (3479074690.py, line 4)",
     "output_type": "error",
     "traceback": [
      "\u001b[0;36m  Cell \u001b[0;32mIn [24], line 4\u001b[0;36m\u001b[0m\n\u001b[0;31m    1.Descriptive Statistics:\u001b[0m\n\u001b[0m     ^\u001b[0m\n\u001b[0;31mSyntaxError\u001b[0m\u001b[0;31m:\u001b[0m invalid decimal literal\n"
     ]
    }
   ],
   "source": [
    "#Ans2.\n",
    "There are two main types of statistics: descriptive statistics and inferential statistics.\n",
    "\n",
    "1.Descriptive Statistics: \n",
    "    Descriptive statistics uses data that provides a description of the population either through numerical calculation or graph or table. It provides a graphical summary of data. It is simply used for summarizing objects, etc.\n",
    "2.Inferential Statistics:    \n",
    "    Inferential Statistics makes inference and prediction about population based on a sample of data taken from population. It generalizes a large dataset and applies probabilities to draw a conclusion. It is simply used for explaining meaning of descriptive stats.\n",
    "\n",
    "    \n",
    "Descriptive statistics are used to describe and summarize data. It is used to organize, analyze, and present numerical data in a meaningful way. Descriptive statistics include measures of central tendency (mean, median, mode), measures of variability (range, standard deviation, variance), and measures of correlation (covariance, correlation coefficient).    \n",
    "Inferential statistics, on the other hand, are used to make generalizations about a larger population based on a smaller sample of data. It is used to test hypotheses, estimate parameters, and make predictions. \n"
   ]
  },
  {
   "cell_type": "code",
   "execution_count": 25,
   "id": "10e29e92-8ac9-4570-84f0-6e36c46a7771",
   "metadata": {},
   "outputs": [
    {
     "ename": "SyntaxError",
     "evalue": "invalid decimal literal (3960610017.py, line 2)",
     "output_type": "error",
     "traceback": [
      "\u001b[0;36m  Cell \u001b[0;32mIn [25], line 2\u001b[0;36m\u001b[0m\n\u001b[0;31m    1.Nominal Data: This type of data is used to categorize or label data without any quantitative value. The categories are typically represented by numbers or words, but the numbers do not have any inherent value or order\u001b[0m\n\u001b[0m     ^\u001b[0m\n\u001b[0;31mSyntaxError\u001b[0m\u001b[0;31m:\u001b[0m invalid decimal literal\n"
     ]
    }
   ],
   "source": [
    "#Ans.3\n",
    "There are four main types of data: nominal, ordinal, interval, and ratio. \n",
    "1.Nominal Data: This type of data is used to categorize or label data without any quantitative value. The categories are typically represented by numbers or words, but the numbers do not have any inherent value or order\n",
    "2.Ordinal Data: This type of data can be ranked or ordered, but the differences between the values are not meaningful. The categories can be represented by numbers or words, and there is a natural order to them.\n",
    "3.Interval Data: This type of data has a natural order and the differences between the values are meaningful, but there is no true zero point.\n",
    "4.Ratio Data: This type of data has a natural order and the differences between the values are meaningful, and there is a true zero point. The categories are represented by numerical values, the distance between categories is known, and the absence of the characteristic being measured is meaningful"
   ]
  },
  {
   "cell_type": "code",
   "execution_count": null,
   "id": "f8dcb42f-33b2-40e8-8eff-97553d14b0a4",
   "metadata": {},
   "outputs": [],
   "source": [
    "#Ans4.\n",
    "(i) Grading in exam: This is an example of qualitative data.\n",
    "(ii) Colour of mangoes: This is also an example of qualitative data \n",
    "(iii) Height data of a class: This is an example of quantitative data\n",
    "(iv) Number of mangoes exported by a farm: This is also an example of quantitative data"
   ]
  },
  {
   "cell_type": "code",
   "execution_count": null,
   "id": "f0964f2b-af19-4342-bee6-1cde9e8ff8d0",
   "metadata": {},
   "outputs": [],
   "source": [
    "#Ans5.\n",
    "There are four levels of measurement: nominal, ordinal, interval, and ratio.\n",
    "\n",
    "1.Nominal Level: This level of measurement is used for variables that can be placed into categories or groups, but there is no inherent order or ranking to those categories. Examples of nominal level variables include gender (male or female), marital status \n",
    "2.Ordinal Level: This level of measurement is used for variables that can be ranked or ordered, but the differences between the values are not necessarily equal or meaningful. Examples of ordinal level variables include education level (elementary, middle, high school, college), income level (low, middle, high).\n",
    "3.Interval Level: This level of measurement is used for variables where the differences between the values are equal, but there is no true zero point. Examples of interval level variables include temperature in Celsius or Fahrenheit, time of day.\n",
    "4.Ratio Level: This level of measurement is used for variables where the differences between the values are equal, and there is a true zero point. Examples of ratio level variables include height, weight, age, and income."
   ]
  },
  {
   "cell_type": "code",
   "execution_count": null,
   "id": "4818913c-d887-42f6-bdaf-ea2ebfe25439",
   "metadata": {},
   "outputs": [],
   "source": [
    "#Ans6.\n",
    "Understanding the level of measurement is important when analyzing data because it determines what statistical analyses and mathematical operations can be performed on the data. Using an incorrect level of measurement can lead to incorrect or misleading conclusions about the data.\n",
    "\n",
    "consider a study that compares the salaries of employees in two different companies.\n",
    "The salaries are measured using nominal data, where the employees are categorized into different salary bands. \n",
    "If the researchers try to calculate the mean salary for each company, it would be meaningless as there is no inherent order or ranking to the salary bands"
   ]
  },
  {
   "cell_type": "code",
   "execution_count": null,
   "id": "70f68aed-b702-4a58-8b03-abc8bfb269c6",
   "metadata": {},
   "outputs": [],
   "source": [
    "#Ans7.\n",
    "Nominal and ordinal data types are both types of categorical data, but they differ in terms of the level of measurement and the properties of the categories\n",
    "\n",
    "Nominal data refers to data that can be categorized into distinct groups or labels, but the categories do not have any inherent order or ranking.\n",
    "Ordinal data, on the other hand, can be ranked or ordered, but the differences between the categories are not necessarily equal or meaningful."
   ]
  },
  {
   "cell_type": "code",
   "execution_count": null,
   "id": "d343ad45-d458-4ed2-830d-a761d6ed5495",
   "metadata": {},
   "outputs": [],
   "source": [
    "#Ans8.\n",
    "A box plot, also known as a box and whisker plot, is a type of plot that can be used to display data in terms of range.\n"
   ]
  },
  {
   "cell_type": "code",
   "execution_count": null,
   "id": "a616a739-f0ab-4484-a71a-3c0136242d91",
   "metadata": {},
   "outputs": [],
   "source": [
    "#Ans10.\n",
    "The following are some common measures of central tendency and variability:\n",
    "    \n",
    "    1.Mean: The mean is a measure of central tendency that represents the average value of a dataset. It is calculated by adding up all the values in the dataset and dividing by the total number of values\n",
    "    2.Median: The median is a measure of central tendency that represents the middle value of a dataset when the values are ordered from lowest to highest. It is the value that divides the dataset into two equal halves.\n",
    "    3.Mode: The mode is a measure of central tendency that represents the most common value or values in a dataset. It is the value that occurs most frequently in the dataset. The mode can be used to describe the most typical or representative value of a dataset, especially when the data are categorical or discrete\n",
    "    4.Range: The range is a measure of variability that represents the difference between the maximum and minimum values in a dataset. It can be used to describe the spread or dispersion of a dataset, and it is often used in exploratory data analysis to identify outliers or extreme values.\n",
    "    5.Range: The range is a measure of variability that represents the difference between the maximum and minimum values in a dataset. It can be used to describe the spread or dispersion of a dataset, and it is often used in exploratory data analysis to identify outliers or extreme values.\n",
    "    "
   ]
  },
  {
   "cell_type": "code",
   "execution_count": null,
   "id": "20610f08-3f16-4b16-94c3-bbebb2b91949",
   "metadata": {},
   "outputs": [],
   "source": [
    "#Ans9.\n",
    "Descriptive and inferential statistics are two main branches of statistical analysis that serve different purposes in data analysis.\n",
    "\n",
    "Descriptive statistics refers to the process of summarizing and describing the key characteristics or features of a dataset, such as the mean, median, mode, standard deviation, range, and frequency distributions. Descriptive statistics can be used to provide a general overview of the data, identify patterns or trends in the data, and communicate the main findings to a wider audience. \n",
    "Inferential statistics, on the other hand, refers to the process of using data from a sample to make inferences or predictions about a larger population. Inferential statistics involve testing hypotheses, estimating parameters, and making probability statements based on the data. Inferential statistics can be used to determine whether a particular treatment or intervention is effective, to compare groups or conditions, or to make predictions about future events or trends.\n"
   ]
  }
 ],
 "metadata": {
  "kernelspec": {
   "display_name": "Python 3 (ipykernel)",
   "language": "python",
   "name": "python3"
  },
  "language_info": {
   "codemirror_mode": {
    "name": "ipython",
    "version": 3
   },
   "file_extension": ".py",
   "mimetype": "text/x-python",
   "name": "python",
   "nbconvert_exporter": "python",
   "pygments_lexer": "ipython3",
   "version": "3.10.6"
  }
 },
 "nbformat": 4,
 "nbformat_minor": 5
}
