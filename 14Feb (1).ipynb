{
 "cells": [
  {
   "cell_type": "code",
   "execution_count": null,
   "id": "63ab9c39-240c-43e9-88bf-b4a47fa73fc4",
   "metadata": {},
   "outputs": [],
   "source": [
    "#Ans1.\n",
    "Multithreading is a programming technique in which multiple threads of execution run concurrently within a single process. \n",
    "\n",
    "Multithreading is used to improve the performance of an application by allowing it to perform multiple tasks simultaneously. \n",
    "The threading module in Python provides a simple way to create and manage threads. It includes functions for starting and stopping threads, and for synchronizing their execution. \n"
   ]
  },
  {
   "cell_type": "code",
   "execution_count": null,
   "id": "13b74bed-fb63-4647-b2bb-7e1d88b24e31",
   "metadata": {},
   "outputs": [],
   "source": [
    "#Ans2.\n",
    "The threading module is used in Python to create and manage threads of execution within a single process.\n",
    "\n",
    "The uses of the functions are\n",
    "1.activeCount(): This function returns the number of active threads in the current process. It can be useful for monitoring the status of threads and detecting any potential issues with thread management\n",
    "2.currentThread(): This function returns a reference to the current thread object, which can be useful for identifying the current thread and performing operations specific to that thread.\n",
    "3.enumerate(): This function returns a list of all active thread objects in the current process. It can be useful for monitoring the status of threads and identifying any issues with thread management."
   ]
  },
  {
   "cell_type": "code",
   "execution_count": null,
   "id": "0ed7140a-2ff6-4fe4-b52a-bed38251aeed",
   "metadata": {},
   "outputs": [],
   "source": [
    "#Ans3.\n",
    "1.run(): This method is called when a thread is started using the start() method. It defines the behavior of the thread and contains the code that will be executed in the thread.\n",
    "2.start(): This method starts a new thread of execution for the Thread object.\n",
    "3.join(): This method waits for a thread to complete its execution before continuing with the main thread. When called on a Thread object, it blocks the calling thread until the target thread completes. \n",
    "4.isAlive(): This method returns a boolean value indicating whether a thread is currently executing or not. If the thread is still running, this method returns True. If the thread has completed its execution or has not yet been started, this method returns False. \n"
   ]
  },
  {
   "cell_type": "code",
   "execution_count": null,
   "id": "2b16a0e0-03a9-496d-a6a5-0e22e09f57f8",
   "metadata": {},
   "outputs": [],
   "source": [
    "#Ans4.\n",
    "import threading\n",
    "\n",
    "def print_squares():\n",
    "    for i in range(1, 11):\n",
    "        print(f\"Square of {i} is {i**2}\")\n",
    "\n",
    "def print_cubes():\n",
    "    for i in range(1, 11):\n",
    "        print(f\"Cube of {i} is {i**3}\")\n",
    "\n",
    "if __name__ == \"__main__\":\n",
    "    t1 = threading.Thread(target=print_squares)\n",
    "    t2 = threading.Thread(target=print_cubes)\n",
    "    \n",
    "    t1.start()\n",
    "    t2.start()\n",
    "    \n",
    "    t1.join()\n",
    "    t2.join()\n"
   ]
  },
  {
   "cell_type": "code",
   "execution_count": null,
   "id": "2dc42033-6211-4d6f-a088-cbe3f31ea14f",
   "metadata": {},
   "outputs": [],
   "source": [
    "#Ans5.\n",
    "The advantages of multithreading are:\n",
    "1.Enables efficient utilization of the resources as the threads share the data space and memory.\n",
    "2.Allows the concurrent and parallel occurrence of various tasks.\n",
    "3.It causes a reduction in time consumption or response time, thereby increasing the performance.\n",
    "\n",
    "The disadvantages of multithreading are:\n",
    "1.Difficulty of writing code\n",
    "2.Difficulty of debugging\n",
    "3.Difficulty of managing concurrency"
   ]
  },
  {
   "cell_type": "code",
   "execution_count": null,
   "id": "d9d649c8-6bef-4942-941e-0395abdde5be",
   "metadata": {},
   "outputs": [],
   "source": [
    "#Ans6.\n",
    "Deadlocks and race conditions are the two conditions which occur in the multithreading are:\n",
    "1.Deadlocks: A deadlock occurs when two or more threads are blocked and unable to proceed because they are waiting for each other to release a shared resource. This can happen when two threads acquire different locks on shared resources and then try to acquire the lock held by the other thread.\n",
    "2.Race conditions: A race condition occurs when two or more threads access shared resources in an unpredictable order, leading to unexpected results. This can happen when the behavior of the application depends on the relative timing of different threads and their access to shared resources"
   ]
  }
 ],
 "metadata": {
  "kernelspec": {
   "display_name": "Python 3 (ipykernel)",
   "language": "python",
   "name": "python3"
  },
  "language_info": {
   "codemirror_mode": {
    "name": "ipython",
    "version": 3
   },
   "file_extension": ".py",
   "mimetype": "text/x-python",
   "name": "python",
   "nbconvert_exporter": "python",
   "pygments_lexer": "ipython3",
   "version": "3.10.6"
  }
 },
 "nbformat": 4,
 "nbformat_minor": 5
}
