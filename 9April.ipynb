{
 "cells": [
  {
   "cell_type": "code",
   "execution_count": null,
   "id": "d696ef31-468b-4531-ba68-5dc9a25de5c0",
   "metadata": {},
   "outputs": [],
   "source": [
    "#Ans1.\n",
    "Bayes theorem is a mathematical formula that describes the probability of an event based on prior knowledge of conditions that might be related to the event. The theorem is named after Thomas Bayes.\n"
   ]
  },
  {
   "cell_type": "code",
   "execution_count": null,
   "id": "1c674f01-0083-4342-8705-3368f0ba4c69",
   "metadata": {},
   "outputs": [],
   "source": [
    "#Ans2.\n",
    "The formula for Bayes theorem is:\n",
    "\n",
    "P(A|B) = (P(B|A) * P(A)) / P(B)"
   ]
  },
  {
   "cell_type": "code",
   "execution_count": 2,
   "id": "dbcaa195-347b-4d84-9c28-4bd345d6ae07",
   "metadata": {},
   "outputs": [
    {
     "ename": "SyntaxError",
     "evalue": "invalid decimal literal (1310454567.py, line 3)",
     "output_type": "error",
     "traceback": [
      "\u001b[0;36m  Cell \u001b[0;32mIn [2], line 3\u001b[0;36m\u001b[0m\n\u001b[0;31m    1.Medicine\u001b[0m\n\u001b[0m     ^\u001b[0m\n\u001b[0;31mSyntaxError\u001b[0m\u001b[0;31m:\u001b[0m invalid decimal literal\n"
     ]
    }
   ],
   "source": [
    "#Ans3.\n",
    "Bayes theorem is used in practice in a wide variety of fields:\n",
    "1.Medicine \n",
    "2.Finance\n",
    "3.Machine Learning"
   ]
  },
  {
   "cell_type": "code",
   "execution_count": null,
   "id": "54706e11-6667-4518-9687-f16c2b0c8043",
   "metadata": {},
   "outputs": [],
   "source": [
    "#Ans4.\n",
    "Bayes theorem and conditional probability are closely related concepts. Conditional probability is the probability of one event occurring, given that another event has already occurred. Bayes' theorem is a formula that can be used to update our belief in the probability of an event, given new evidence.\n",
    "\n",
    "The relationship between Bayes theorem and conditional probability can be seen in the formula for Bayes' theorem:\n",
    "\n",
    "P(A|B) = P(B|A) * P(A) / P(B)\n"
   ]
  },
  {
   "cell_type": "code",
   "execution_count": null,
   "id": "8c403683-234f-4443-8d0d-f31afb1aceee",
   "metadata": {},
   "outputs": [],
   "source": [
    "#Ans5.\n",
    "\n",
    "There are three main types of Naive Bayes classifiers \n",
    "1.Multinomial Naive Bayes\n",
    "-->This type of classifier is used when the features are discrete and can take on a finite number of values.\n",
    "2.Bernoulli Naive Bayes\n",
    "-->This type of classifier is similar to Multinomial Naive Bayes, but the features are binary. This means that the features can only take on two values, such as true or false, or yes or no.\n",
    "3.Gaussian Naive Bayes\n",
    "-->This type of classifier is used when the features are continuous and can take on any value within a range."
   ]
  },
  {
   "cell_type": "code",
   "execution_count": null,
   "id": "c6f4f3ed-29fd-4bfa-b38e-bcbca86e910a",
   "metadata": {},
   "outputs": [],
   "source": [
    "#Ans6.\n",
    "We calculate the likelihoods for each class based on the frequencies given in the table:\n",
    "\n",
    "P(X1 = 3 | A) = 4/13\n",
    "P(X2 = 4 | A) = 3/13\n",
    "P(X1 = 3 | B) = 1/9\n",
    "P(X2 = 4 | B) = 3/9\n",
    "\n",
    "The formula for Bayes theorem is:\n",
    "\n",
    "P(A|B) = (P(B|A) * P(A)) / P(B)\n",
    "\n",
    "For class A:\n",
    "P(A | X1 = 3, X2 = 4) = (4/13 * 3/13 * 0.5) / P(X1 = 3, X2 = 4)\n",
    "\n",
    "For class B:\n",
    "P(B | X1 = 3, X2 = 4) = (1/9 * 3/9 * 0.5) / P(X1 = 3, X2 = 4)\n",
    "\n",
    "P(A | X1 = 3, X2 = 4) = (4/13 * 3/13 * 0.5)\n",
    "P(B | X1 = 3, X2 = 4) = (1/9 * 3/9 * 0.5)\n",
    "\n",
    "P(A | X1 = 3, X2 = 4) ≈ 0.0348\n",
    "P(B | X1 = 3, X2 = 4) ≈ 0.0278"
   ]
  },
  {
   "cell_type": "code",
   "execution_count": null,
   "id": "33d4673c-6bbd-41fc-b14b-d9ab99c7a094",
   "metadata": {},
   "outputs": [],
   "source": []
  }
 ],
 "metadata": {
  "kernelspec": {
   "display_name": "Python 3 (ipykernel)",
   "language": "python",
   "name": "python3"
  },
  "language_info": {
   "codemirror_mode": {
    "name": "ipython",
    "version": 3
   },
   "file_extension": ".py",
   "mimetype": "text/x-python",
   "name": "python",
   "nbconvert_exporter": "python",
   "pygments_lexer": "ipython3",
   "version": "3.10.6"
  }
 },
 "nbformat": 4,
 "nbformat_minor": 5
}
