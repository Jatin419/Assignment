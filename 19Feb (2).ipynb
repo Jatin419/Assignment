{
 "cells": [
  {
   "cell_type": "code",
   "execution_count": null,
   "id": "dede10a1-7e12-435b-9c51-eeee15d7a7c4",
   "metadata": {},
   "outputs": [],
   "source": [
    "#Ans1.\n",
    "Flask is a web framework that provides libraries to build lightweight web applications in python.\n",
    "It is designed to make getting started with web development quick and easy, with minimal boilerplate code and a simple, easy-to-learn syntax.\n",
    "\n",
    "The advantages of Flask Framework are:\n",
    "    1.Scalable: Flask is scalable and can be used to build small or large applications. \n",
    "    2.Easy to learn: Flask has a simple and intuitive API that is easy to learn and understand, especially for beginners in web development.\n",
    "    3.Well-documented: Flask has excellent documentation and a large community of developers who contribute to its growth and provide support to beginners."
   ]
  },
  {
   "cell_type": "code",
   "execution_count": null,
   "id": "5eae9bc0-3b77-4244-a57c-4169f6747c5c",
   "metadata": {},
   "outputs": [],
   "source": [
    "#Ans2.\n",
    "from flask import Flask\n",
    "from flask import request\n",
    "\n",
    "app = Flask(__name__)\n",
    "\n",
    "@app.route(\"/\")\n",
    "def hello_world():\n",
    "    return \"<h1>hello, World!</h1>\"\n",
    "\n",
    "# @app.route(\"/test\")\n",
    "# def test():\n",
    "#     a = 5+6\n",
    "#     return \"This is the function to run app {}\".format(a)\n",
    "\n",
    "if __name__==\"__main__\":\n",
    "    app.run(host=\"0.0.0.0\")"
   ]
  },
  {
   "cell_type": "code",
   "execution_count": null,
   "id": "72b96584-05d2-4f78-b612-64599e71ac26",
   "metadata": {},
   "outputs": [],
   "source": [
    "#Ans3.\n",
    "App routing is used to map the specific URL with the associated function that is intended to perform some task.\n",
    "It is used to access some particular page like Flask Tutorial in the web application.\n",
    "\n",
    "We use app routes in Flask to define the structure and behavior of our web application. By mapping URLs to specific functions, we can create dynamic web pages that respond to user \n",
    "input and display data from a database or external API."
   ]
  },
  {
   "cell_type": "code",
   "execution_count": null,
   "id": "bd9e96fd-0baa-4931-bb4c-ebbc33703d54",
   "metadata": {},
   "outputs": [],
   "source": [
    "#Ans4.\n",
    "from flask import Flask , jsonify\n",
    "\n",
    "app = Flask(__name__)\n",
    "\n",
    "@app.route(\"/\")\n",
    "def company_details():\n",
    "    company = {\n",
    "        'name': 'ABC Corporation',\n",
    "        'location': 'India',\n",
    "        'contact': '999-999-9999'\n",
    "    }\n",
    "    return jsonify(company)\n",
    "\n",
    "@app.route(\"/welcome\")\n",
    "def welcome():\n",
    "    return \"Welcome to ABC Coperation\"\n",
    "\n",
    "if __name__==\"__main__\":\n",
    "    app.run(host=\"0.0.0.0\")"
   ]
  },
  {
   "cell_type": "code",
   "execution_count": null,
   "id": "b411d8ce-044f-482a-83c7-9e4346e0b6a5",
   "metadata": {},
   "outputs": [],
   "source": [
    "#Ans5.\n",
    "from flask import Flask, url_for\n",
    "\n",
    "app = Flask(__name__)\n",
    "\n",
    "@app.route('/')\n",
    "def index():\n",
    "    return 'Hello, World!'\n",
    "\n",
    "@app.route('/user/<username>')\n",
    "def user_profile(username):\n",
    "    return f'User profile: {username}'\n",
    "\n",
    "with app.test_request_context():\n",
    "    print(url_for('index'))  # Output: '/'\n",
    "    print(url_for('user_profile', username='JohnDoe'))  # Output: '/user/JohnDoe'\n"
   ]
  }
 ],
 "metadata": {
  "kernelspec": {
   "display_name": "Python 3 (ipykernel)",
   "language": "python",
   "name": "python3"
  },
  "language_info": {
   "codemirror_mode": {
    "name": "ipython",
    "version": 3
   },
   "file_extension": ".py",
   "mimetype": "text/x-python",
   "name": "python",
   "nbconvert_exporter": "python",
   "pygments_lexer": "ipython3",
   "version": "3.10.6"
  }
 },
 "nbformat": 4,
 "nbformat_minor": 5
}
