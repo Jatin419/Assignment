{
 "cells": [
  {
   "cell_type": "code",
   "execution_count": null,
   "id": "d3973b78-610c-47e4-ad5c-f14cee7d6637",
   "metadata": {},
   "outputs": [],
   "source": [
    "#Ans1.\n",
    "The three measures of central tendency are:\n",
    "    1.Mean-The mean represents the average value of the dataset. It can be calculated as the sum of all the values in the dataset divided by the number of values.\n",
    "    2.Median-The median is the middle value in a dataset when the values are arranged in order from lowest to highest. If there is an even number of values, the median is the average of the two middle values.\n",
    "    3.Mode- The mode is the most common value in a dataset. It is the value that occurs with the highest frequency. A dataset can have one or more modes, or no mode at all if all the values are different."
   ]
  },
  {
   "cell_type": "code",
   "execution_count": null,
   "id": "84ed752a-3aba-44f6-8a01-15e59270d3db",
   "metadata": {},
   "outputs": [],
   "source": [
    "#Ans2.\n",
    "The mean, median, and mode are three different measures of central tendency that are used to describe the center of a dataset.\n",
    "\n",
    "The mean is the sum of all the values in a dataset divided by the total number of values. It is a useful measure when the data is distributed normally or in a symmetric manner, where the mean represents the center of the distribution.\n",
    "\n",
    "The median is the middle value in a dataset when the values are arranged in order from lowest to highest. It is not affected by outliers and is a useful measure when the data has outliers or is skewed.\n",
    "\n",
    "The median is the middle value in a dataset when the values are ordered from smallest to largest. If the dataset has an even number of values, the median is the average of the two middle values. "
   ]
  },
  {
   "cell_type": "code",
   "execution_count": null,
   "id": "7faa47db-8bcc-47c2-8d6e-95067c123466",
   "metadata": {},
   "outputs": [],
   "source": [
    "#Ans3.\n",
    "\n",
    "Mean = (sum of all values) / (total number of values)\n",
    "\n",
    "Sorting the given data\n",
    "\n",
    "[172.5, 175, 175, 176, 176.2, 176.5, 177, 177, 178, 178, 178, 178.2, 178.9, 179, 180]\n",
    "\n",
    "Mean = (172.5 + 175 + 175 + 176 + 176.2 + 176.5 + 177 + 177 + 178 + 178 + 178 + 178.2 + 178.9 + 179 + 180) / 15\n",
    "Mean = 176.9\n",
    "\n",
    "Median = 177\n",
    "\n",
    "To calculate the mode, we need to count how many times each value appears in the dataset:\n",
    "    Mode = 178"
   ]
  },
  {
   "cell_type": "code",
   "execution_count": null,
   "id": "1969c014-db54-4af8-88f6-f0038db1c99c",
   "metadata": {},
   "outputs": [],
   "source": [
    "#Ans4.\n",
    "Standard deviation = sqrt( (sum of squared differences from the mean) / (total number of values - 1) )\n",
    "\n",
    "finding the differences\n",
    "\n",
    "\n",
    "178 - 176.9 = 1.1\n",
    "177 - 176.9 = 0.1\n",
    "176 - 176.9 = -0.9\n",
    "177 - 176.9 = 0.1\n",
    "178.2 - 176.9 = 1.3\n",
    "178 - 176.9 = 1.1\n",
    "175 - 176.9 = -1.9\n",
    "179 - 176.9 = 2.1\n",
    "180 - 176.9 = 3.1\n",
    "175 - 176.9 = -1.9\n",
    "178.9 - 176.9 = 2\n",
    "176.2 - 176.9 = -0.7\n",
    "177 - 176.9 = 0.1\n",
    "172.5 - 176.9 = -4.4\n",
    "178 - 176.9 = 1.1\n",
    "176.5 - 176.9 = -0.4\n",
    "\n",
    "And squaring the values\n",
    "\n",
    "(1.1)**2 = 1.21\n",
    "(0.1)**2 = 0.01\n",
    "(-0.9)**2 = 0.81\n",
    "(0.1)**2 = 0.01\n",
    "(1.3)**2 = 1.69\n",
    "(1.1)**2 = 1.21\n",
    "(-1.9)**2 = 3.61\n",
    "(2.1)**2 = 4.41\n",
    "(3.1)**2 = 9.61\n",
    "(-1.9)**2 = 3.61\n",
    "(2)**2 = 4\n",
    "(-0.7)**2 = 0.49\n",
    "(0.1)**2 = 0.01\n",
    "(-4.4)**2 = 19.36\n",
    "(1.1)**2 = 1.21\n",
    "(-0.4)**2 = 0.16\n",
    "\n",
    "adding the squared diiferences\n",
    "\n",
    "1.21 + 0.01 + 0.81 + 0.01 + 1.69 + 1.21 + 3.61 + 4.41 + 9.61 + 3.61 + 4 + 0.49 + 0.01 + 19.36 + 1.21 + 0.16 = 51.9\n",
    "\n",
    "Standard deviation = sqrt( (sum of squared differences from the mean) / (total number of values - 1) )\n",
    "\n",
    "Standard deviation = sqrt( 51.9 / (16 - 1) )\n",
    "Standard deviation = sqrt( 3.66 )\n",
    "Standard deviation = 1.913"
   ]
  },
  {
   "cell_type": "code",
   "execution_count": null,
   "id": "d3a086f3-974d-47a3-af7f-fab4094954b8",
   "metadata": {},
   "outputs": [],
   "source": [
    "#Ans5.\n",
    "Measures of dispersion, such as range, variance, and standard deviation, are used to describe the spread or variability of a dataset. These measures provide information about how the data is distributed around the central tendency (mean, median, or mode) of the dataset\n",
    "\n"
   ]
  },
  {
   "cell_type": "code",
   "execution_count": null,
   "id": "b9d76d89-4d05-4a97-bde4-7271dfe4101c",
   "metadata": {},
   "outputs": [],
   "source": [
    "#Ans6.\n",
    "A Venn diagram is a visual representation of the relationships between different sets or groups of objects or data. It is composed of a series of overlapping circles or ovals, each representing a set, and the overlapping regions representing the relationships or commonalities between the sets.\n"
   ]
  },
  {
   "cell_type": "code",
   "execution_count": null,
   "id": "4897038e-ef49-4935-8a1b-22d84246832e",
   "metadata": {},
   "outputs": [],
   "source": [
    "#Ans7.\n",
    " A ∩ B represents the intersection of the sets A and B, which is the set of elements that are common to both sets. From the given sets A and B, we can see that the only element that is common to both sets is 6. Therefore, A ∩ B = {6}.\n",
    "    \n",
    " A ⋃ B represents the union of the sets A and B, which is the set of all elements that belong to either A or B or both. From the given sets A and B, we can see that the union of the two sets includes all the elements in both sets without duplication. Therefore, A ⋃ B = {0, 2, 3, 4, 5, 6, 7, 8, 10}.   "
   ]
  },
  {
   "cell_type": "code",
   "execution_count": null,
   "id": "ea54ab07-b8ba-4191-aaff-9ae5bb7c4e53",
   "metadata": {},
   "outputs": [],
   "source": [
    "#Ans8.\n",
    "Skewness is a measure of the asymmetry of a probability distribution or dataset. A distribution is said to be symmetric if it is evenly distributed around its mean, and it has zero skewness. However, if the distribution is not evenly distributed around its mean, it is said to be skewed, and it has nonzero skewness.\n"
   ]
  },
  {
   "cell_type": "code",
   "execution_count": null,
   "id": "cdc15195-8e79-45a0-b855-2a6ae7e7fece",
   "metadata": {},
   "outputs": [],
   "source": [
    "#Ans9.\n",
    "If a data is right skewed, then the median will typically be less than the mean. This is because in a right-skewed distribution, the tail of the distribution is longer on the right side, which pulls the mean towards the right and makes it larger than the median."
   ]
  },
  {
   "cell_type": "code",
   "execution_count": null,
   "id": "9ac9a450-7eb0-4692-8c05-4345623a64a2",
   "metadata": {},
   "outputs": [],
   "source": [
    "#Ans10.\n",
    "Covariance and correlation are two measures that are used to describe the relationship between two variables in statistical analysis. While both measures describe the degree to which two variables are related to each other, they differ in their interpretation and scale.\n",
    "Both covariance and correlation are used in statistical analysis to understand the relationship between two variables, and to identify patterns and trends in the data."
   ]
  },
  {
   "cell_type": "code",
   "execution_count": null,
   "id": "fd682aae-dfb0-4478-aff0-bee179a42e16",
   "metadata": {},
   "outputs": [],
   "source": [
    "#Ans11.\n",
    "sample mean = (sum of all values in the dataset) / (number of values in the dataset)\n",
    "\n",
    "To find the sample mean, you would add up all the numbers in the dataset:\n",
    "\n",
    "2 + 4 + 6 + 8 + 10 = 30\n",
    "\n",
    "Then, you would divide the sum by the total number of values in the dataset, which in this case is 5:\n",
    "\n",
    "30 / 5 = 6"
   ]
  },
  {
   "cell_type": "code",
   "execution_count": null,
   "id": "530d4136-28fd-4648-b908-2e244936623d",
   "metadata": {},
   "outputs": [],
   "source": [
    "#Ans12.\n",
    "For a normal distribution, the three common measures of central tendency are the mean, median, and mode.\n",
    "\n",
    "In a normal distribution, these measures of central tendency are related as follows:\n",
    "\n",
    "The mean, median, and mode are all equal.\n",
    "The median is also located at the center of the distribution and is equal to the mean.\n",
    "The mode represents the value that occurs most frequently in the distribution, which is also equal to the mean and median for a normal distribution."
   ]
  },
  {
   "cell_type": "code",
   "execution_count": null,
   "id": "6ac99f26-3c17-4885-9885-841c6dcc5025",
   "metadata": {},
   "outputs": [],
   "source": [
    "#Ans13.\n",
    "Covariance measures the direction and strength of the linear relationship between two variables. Specifically, it measures how much two variables vary together. A positive covariance indicates that two variables increase or decrease together, while a negative covariance indicates that as one variable increases, the other decreases.\n",
    "\n"
   ]
  },
  {
   "cell_type": "code",
   "execution_count": null,
   "id": "eee699f4-a48f-4a81-be89-e974dcbe0090",
   "metadata": {},
   "outputs": [],
   "source": [
    "#Ans14.\n",
    "Outliers are extreme values that fall outside the overall pattern of a dataset. They can significantly affect measures of central tendency and dispersion in a variety of ways.\n",
    "\n",
    "Here's an example to illustrate how outliers can affect measures of central tendency and dispersion:\n",
    "\n",
    "Suppose we have the following dataset of 10 exam scores: 70, 75, 80, 85, 90, 95, 100, 105, 110, 115.\n",
    "\n",
    "The mean of this dataset is 90, the median is 87.5, and the mode is not applicable since all values are unique. The range is 45 and the standard deviation is 17.54.\n",
    "\n",
    "Now suppose we add an outlier to this dataset, say a score of 150. The new dataset is: 70, 75, 80, 85, 90, 95, 100, 105, 110, 115, 150.\n",
    "\n",
    "The mean of this new dataset is now 103.64\n",
    "The median is still 90\n",
    "The standard deviation is now 31.53\n",
    "\n"
   ]
  }
 ],
 "metadata": {
  "kernelspec": {
   "display_name": "Python 3 (ipykernel)",
   "language": "python",
   "name": "python3"
  },
  "language_info": {
   "codemirror_mode": {
    "name": "ipython",
    "version": 3
   },
   "file_extension": ".py",
   "mimetype": "text/x-python",
   "name": "python",
   "nbconvert_exporter": "python",
   "pygments_lexer": "ipython3",
   "version": "3.10.6"
  }
 },
 "nbformat": 4,
 "nbformat_minor": 5
}
