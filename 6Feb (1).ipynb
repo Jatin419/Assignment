{
 "cells": [
  {
   "cell_type": "code",
   "execution_count": 4,
   "id": "9053f0ec-75f2-4a98-81ae-d878b5ac39f1",
   "metadata": {},
   "outputs": [],
   "source": [
    "#Ans2.\n",
    "def encrypt_message(message):\n",
    "    # Convert message to lowercase\n",
    "    message = message.lower()\n",
    "\n",
    "  \
    "    char_map = {\n",
    "        'a': 'z', 'b': 'y', 'c': 'x', 'd': 'w', 'e': 'v', 'f': 'u', 'g': 't',\n",
    "        'h': 's', 'i': 'r', 'j': 'q', 'k': 'p', 'l': 'o', 'm': 'n', 'n': 'm',\n",
    "        'o': 'l', 'p': 'k', 'q': 'j', 'r': 'i', 's': 'h', 't': 'g', 'u': 'f',\n",
    "        'v': 'e', 'w': 'd', 'x': 'c', 'y': 'b', 'z': 'a', ' ': '$'\n",
    "    }\n",
    "\n",
    "   
    "    encrypted_message = ''\n",
    "    for char in message:\n",
    "        if char in char_map:\n",
    "            encrypted_message += char_map[char]\n",
    "        else:\n",
    "            encrypted_message += char\n",
    "\n",
    "    return encrypted_message"
   ]
  },
  {
   "cell_type": "code",
   "execution_count": 5,
   "id": "306e2647-d60b-452c-82ca-3da386553830",
   "metadata": {},
   "outputs": [
    {
     "name": "stdout",
     "output_type": "stream",
     "text": [
      "r$dzmg$gl$yvxlnv$z$wzgz$hxrvmgrhg.\n"
     ]
    }
   ],
   "source": [
    "message = \"I want to become a Data Scientist.\"\n",
    "encrypted_message = encrypt_message(message)\n",
    "print(encrypted_message)\n"
   ]
  }
 ],
 "metadata": {
  "kernelspec": {
   "display_name": "Python 3 (ipykernel)",
   "language": "python",
   "name": "python3"
  },
  "language_info": {
   "codemirror_mode": {
    "name": "ipython",
    "version": 3
   },
   "file_extension": ".py",
   "mimetype": "text/x-python",
   "name": "python",
   "nbconvert_exporter": "python",
   "pygments_lexer": "ipython3",
   "version": "3.10.6"
  }
 },
 "nbformat": 4,
 "nbformat_minor": 5
}
