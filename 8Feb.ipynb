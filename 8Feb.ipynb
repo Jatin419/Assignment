{
 "cells": [
  {
   "cell_type": "code",
   "execution_count": null,
   "id": "b00a78ad-c26e-46f6-ac84-1729ef3e5026",
   "metadata": {},
   "outputs": [],
   "source": [
    "#Ans1.\n",
    "Abstraction is a process of hiding the implementation details and showing only functionality to the user.\n",
    "The example of abtraction is -\n",
    "when we are driving a car,we are only concerned about the start,stop break etc.We are not concerned about the actual process of start,stop break,acceralate etc.\n",
    "What we are concerned about is the “abstract” view of these operations that will help us to propel the car forward and reach our destination."
   ]
  },
  {
   "cell_type": "code",
   "execution_count": null,
   "id": "62dd423a-ff42-4366-96d9-f74a20b69fbb",
   "metadata": {},
   "outputs": [],
   "source": [
    "#Ans2.\n",
    "Abstraction-\n",
    "1.Abstraction solves the problem in the design level.\n",
    "2.Abstraction is used to hinding he unwanted data and giving relvant data.\n",
    "3.Abstraction-Outer layout,used in terms of design.\n",
    "\n",
    "Example-\n",
    "when we are driving a car,we are only concerned about the start,stop break etc.We are not concerned about the actual process of start,stop break,acceralate etc.\n",
    "What we are concerned about is the “abstract” view of these operations that will help us to propel the car forward and reach our destination.\n",
    "\n",
    "Encapsulation-\n",
    "1.Encapsulation solves the problem in the implementation level.\n",
    "2.Encapsulation means hiding the vode and data into a single unit to protect the data from the outside world.\n",
    "3.Abstraction-Inner layout,used in terms of implmentation level.\n",
    "\n",
    "Example-\n",
    "a capsule which is mixed of several medicines."
   ]
  },
  {
   "cell_type": "code",
   "execution_count": null,
   "id": "7aa3d577-8f64-4d71-b73a-ca769827255f",
   "metadata": {},
   "outputs": [],
   "source": [
    "#Ans3.\n",
    "The abc module in Python stands for \"Abstract Base Classes\". It provides a way to define abstract classes in Python, which are classes that cannot be instantiated directly, but instead, are intended to be subclassed. T\n",
    "By using abstract base classes, we can ensure that classes that implement a particular interface share a common set of methods and attributes, making it easier to write reusable code."
   ]
  },
  {
   "cell_type": "code",
   "execution_count": null,
   "id": "0159ce06-7af7-4e27-b9e5-fc7a80a5ad3d",
   "metadata": {},
   "outputs": [],
   "source": [
    "#Ans4.\n"
   ]
  }
 ],
 "metadata": {
  "kernelspec": {
   "display_name": "Python 3 (ipykernel)",
   "language": "python",
   "name": "python3"
  },
  "language_info": {
   "codemirror_mode": {
    "name": "ipython",
    "version": 3
   },
   "file_extension": ".py",
   "mimetype": "text/x-python",
   "name": "python",
   "nbconvert_exporter": "python",
   "pygments_lexer": "ipython3",
   "version": "3.10.6"
  }
 },
 "nbformat": 4,
 "nbformat_minor": 5
}
