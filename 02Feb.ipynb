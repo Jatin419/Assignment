{
 "cells": [
  {
   "cell_type": "code",
   "execution_count": null,
   "id": "dc64032e-005c-4912-a2d1-6b7fcf453ba3",
   "metadata": {},
   "outputs": [],
   "source": [
    "#Ans 1\n",
    "For Loop\n",
    "A for loop is typically used when you know the number of times you want to execute a block of code.\n",
    "While Loop.\n",
    "A loop that runs a single statement or a set of statements in response to a true condition. The term \"while\" is used to indicate this loop.\n",
    "When the number of iterations is uncertain, a \"while\" loop is used.The sentence is repeated until the boolean value is false."
   ]
  },
  {
   "cell_type": "code",
   "execution_count": 10,
   "id": "8d0aad66-f532-4097-8aa2-c9c33535134c",
   "metadata": {},
   "outputs": [
    {
     "name": "stdout",
     "output_type": "stream",
     "text": [
      "Enter the Value of n: \n"
     ]
    },
    {
     "name": "stdout",
     "output_type": "stream",
     "text": [
      " 10\n"
     ]
    },
    {
     "name": "stdout",
     "output_type": "stream",
     "text": [
      "\n",
      "Sum = 55\n"
     ]
    }
   ],
   "source": [
    "# Ans 2\n",
    "#For Loop\n",
    "print(\"Enter the 10 Natural Numbers: \")\n",
    "n = int(input())\n",
    "\n",
    "sum = 0\n",
    "i = 1\n",
    "while i<=n:\n",
    "  sum = sum+i\n",
    "  i = i+1\n",
    "\n",
    "print(\"\\nSum =\", sum)"
   ]
  },
  {
   "cell_type": "code",
   "execution_count": 13,
   "id": "4215086d-8041-4398-9613-14fe1ff586b6",
   "metadata": {},
   "outputs": [
    {
     "name": "stdout",
     "output_type": "stream",
     "text": [
      "Enter the number of units consumed:  310\n"
     ]
    },
    {
     "name": "stdout",
     "output_type": "stream",
     "text": [
      "Your electricity bill is Rs.  2250.0\n"
     ]
    }
   ],
   "source": [
    "#Ans 3\n",
    "units = int(input(\"Enter the number of units consumed: \"))\n",
    "\n",
    "if units <= 100:\n",
    "    bill = units * 4.5\n",
    "elif units <= 200:\n",
    "    bill = 100 * 4.5 + (units - 100) * 6\n",
    "elif units <= 300:\n",
    "    bill = 100 * 4.5 + 100 * 6 + (units - 200) * 10\n",
    "else:\n",
    "    bill = 100 * 4.5 + 100 * 6 + 100 * 10 + (units - 300) * 20\n",
    "\n",
    "print(\"Your electricity bill is Rs. \", bill)"
   ]
  },
  {
   "cell_type": "code",
   "execution_count": 14,
   "id": "8da6f6d1-c765-41d8-852e-58c8fd5445ea",
   "metadata": {},
   "outputs": [
    {
     "name": "stdout",
     "output_type": "stream",
     "text": [
      "[2, 4, 5, 6, 8, 10, 12, 14, 15, 16, 18, 20, 22, 24, 25, 26, 28, 30, 32, 34, 35, 36, 38, 40, 42, 44, 45, 46, 48, 50, 52, 54, 55, 56, 58, 60, 62, 64, 65, 66, 68, 70, 72, 74, 75, 76, 78, 80, 82, 84, 85, 86, 88, 90, 92, 94, 95, 96, 98, 100]\n",
      "[2, 4, 5, 6, 8, 10, 12, 14, 15, 16, 18, 20, 22, 24, 25, 26, 28, 30, 32, 34, 35, 36, 38, 40, 42, 44, 45, 46, 48, 50, 52, 54, 55, 56, 58, 60, 62, 64, 65, 66, 68, 70, 72, 74, 75, 76, 78, 80, 82, 84, 85, 86, 88, 90, 92, 94, 95, 96, 98, 100]\n"
     ]
    }
   ],
   "source": [
    "#Ans 4\n",
    "#For Loop\n",
    "cubes = []\n",
    "\n",
    "for num in range(1, 101):\n",
    "    cube = num ** 3  \n",
    "    if cube % 4 == 0 or cube % 5 == 0:  \n",
    "        cubes.append(num)  \n",
    "\n",
    "print(cubes)\n",
    "\n",
    "#While Loop\n",
    "\n",
    "cubes = []\n",
    "num = 1\n",
    "\n",
    "\n",
    "while num <= 100:\n",
    "    cube = num ** 3  \n",
    "    if cube % 4 == 0 or cube % 5 == 0:  \n",
    "        cubes.append(num) \n",
    "    num += 1\n",
    "\n",
    "print(cubes)\n"
   ]
  },
  {
   "cell_type": "code",
   "execution_count": 1,
   "id": "c86b012a-92cc-4b65-80be-f145aea52f64",
   "metadata": {},
   "outputs": [
    {
     "name": "stdout",
     "output_type": "stream",
     "text": [
      "Number of vowels: 12\n",
      "Vowels in the string: ['I', 'a', 'o', 'e', 'o', 'e', 'a', 'a', 'a', 'i', 'e', 'i']\n"
     ]
    }
   ],
   "source": [
    "#Ans 5\n",
    "string = \"I want to become a data scientist\"\n",
    "vowels = \"aeiouAEIOU\"  \n",
    "\n",
    "count = 0  # initialize a counter for counting vowels\n",
    "vowels_in_string = []  # initialize a list for storing the vowels in the string\n",
    "\n",
    "for char in string:\n",
    "    if char in vowels:  # check if the current character is a vowel\n",
    "        count += 1  # increment the counter\n",
    "        vowels_in_string.append(char)  # append the vowel to the list\n",
    "\n",
    "print(\"Number of vowels:\", count)\n",
    "print(\"Vowels in the string:\", vowels_in_string)\n"
   ]
  }
 ],
 "metadata": {
  "kernelspec": {
   "display_name": "Python 3",
   "language": "python",
   "name": "python3"
  },
  "language_info": {
   "codemirror_mode": {
    "name": "ipython",
    "version": 3
   },
   "file_extension": ".py",
   "mimetype": "text/x-python",
   "name": "python",
   "nbconvert_exporter": "python",
   "pygments_lexer": "ipython3",
   "version": "3.11.2"
  },
  "vscode": {
   "interpreter": {
    "hash": "2a99bf992e4c8b328349bfec706fb58169c7d274f452e28187dfe2eeba399cc9"
   }
  }
 },
 "nbformat": 4,
 "nbformat_minor": 5
}
