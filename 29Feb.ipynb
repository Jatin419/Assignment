{
 "cells": [
  {
   "cell_type": "code",
   "execution_count": null,
   "id": "031ffe97-7708-4a19-86d8-bc2f35d09ebb",
   "metadata": {},
   "outputs": [],
   "source": [
    "Ans 1\n",
    "Guido van Rossum developed the python programming language."
   ]
  },
  {
   "cell_type": "code",
   "execution_count": null,
   "id": "547102c3-1600-48e0-959f-3830d70dc477",
   "metadata": {},
   "outputs": [],
   "source": [
    "Ans 2\n",
    "Python is an interpreted programming language, supporting object-oriented,structured, and\n",
    "functional programming."
   ]
  },
  {
   "cell_type": "code",
   "execution_count": null,
   "id": "6fea4b36-cdb3-409f-b388-1a44bb57aabe",
   "metadata": {},
   "outputs": [],
   "source": [
    "Ans 3 \n",
    "Yes,Python is case sensitive programming Language."
   ]
  },
  {
   "cell_type": "code",
   "execution_count": null,
   "id": "02589ca3-d467-4b31-b681-2669ec7f366f",
   "metadata": {},
   "outputs": [],
   "source": [
    "Ans 4\n",
    "The correct extension of the python file is \".py\"."
   ]
  },
  {
   "cell_type": "code",
   "execution_count": null,
   "id": "76f50680-b9c6-4884-b542-eb8cd93c94b9",
   "metadata": {},
   "outputs": [],
   "source": [
    "Ans 5\n",
    "Python is interpreted language."
   ]
  },
  {
   "cell_type": "code",
   "execution_count": null,
   "id": "45f33be1-0e1e-41b7-866f-cb98524fb810",
   "metadata": {},
   "outputs": [],
   "source": [
    "Ans 6\n",
    "Indentation is used to define a block of code in python. Braces {} are used to define a block of code\n",
    "in most programming languages, like C, C++, and Java."
   ]
  },
  {
   "cell_type": "code",
   "execution_count": null,
   "id": "44105f69-3cd8-468d-8940-317e8e33759b",
   "metadata": {},
   "outputs": [],
   "source": [
    "Ans 7\n",
    "\"#\" character is used to give single line comment in python. "
   ]
  },
  {
   "cell_type": "code",
   "execution_count": null,
   "id": "fdc0d322-5187-484e-ab66-2e53e38142dd",
   "metadata": {},
   "outputs": [],
   "source": [
    "Ans 8\n",
    "The function sys. version can help us to find the version of python that we are currently working\n",
    "on."
   ]
  },
  {
   "cell_type": "code",
   "execution_count": null,
   "id": "f18668b4-ef06-41f2-996f-698e50d26119",
   "metadata": {},
   "outputs": [],
   "source": [
    "Ans 9\n",
    "Lamda "
   ]
  },
  {
   "cell_type": "code",
   "execution_count": null,
   "id": "5ac88602-1a70-48a2-993c-fe236463654c",
   "metadata": {},
   "outputs": [],
   "source": [
    "Ans 10\n",
    "Pip stands for preferred installer program."
   ]
  },
  {
   "cell_type": "code",
   "execution_count": null,
   "id": "0eb06c53-316e-45d3-87fb-f307c6cdeb9e",
   "metadata": {},
   "outputs": [],
   "source": [
    "Ans 11\n",
    "Some of the built in functions in python are-\n",
    "len function.\n",
    "dict{} function.\n",
    "Print() function.\n",
    "sum() function."
   ]
  },
  {
   "cell_type": "code",
   "execution_count": null,
   "id": "da212755-f378-4121-bf39-5d7da4d933a8",
   "metadata": {},
   "outputs": [],
   "source": [
    "Ans 12\n",
    "79 is the maximum length."
   ]
  },
  {
   "cell_type": "code",
   "execution_count": null,
   "id": "44953b3c-5b9d-4c89-929e-6f1646545931",
   "metadata": {},
   "outputs": [],
   "source": [
    "Ans 13\n",
    "Python is commonly used for developing websites and software, task automation, data analysis, and\n",
    "data visualization."
   ]
  },
  {
   "cell_type": "code",
   "execution_count": null,
   "id": "4e9a5a53-1e8c-43f2-b21f-c1a7409fb834",
   "metadata": {},
   "outputs": [],
   "source": [
    "Ans 14\n",
    "Python uses a portion of the memory for internal use and non-object memory."
   ]
  },
  {
   "cell_type": "code",
   "execution_count": null,
   "id": "96e92a35-0df2-46e3-a844-248245b5566b",
   "metadata": {},
   "outputs": [],
   "source": [
    "Ans 15\n",
    "-->Right-clicking This PC and going to Properties.\n",
    "\n",
    "-->Clicking on the Advanced system settings in the menu on the left.\n",
    "\n",
    "-->Clicking on the Environment Variables button o​n the bottom right.\n",
    "\n",
    "-->In the System variables section, selecting the Path variable and clicking on Edit. The next screen\n",
    "   will show all the directories that are currently a part of the PATH variable.\n",
    "\n",
    "-->Clicking on New and entering Python’s install directory."
   ]
  },
  {
   "cell_type": "code",
   "execution_count": null,
   "id": "1f09761f-c2a0-47cb-8c82-fcf271552ba0",
   "metadata": {},
   "outputs": [],
   "source": [
    "Ans 16\n",
    "Yes, indentation is mandatory in Python."
   ]
  }
 ],
 "metadata": {
  "kernelspec": {
   "display_name": "Python 3 (ipykernel)",
   "language": "python",
   "name": "python3"
  },
  "language_info": {
   "codemirror_mode": {
    "name": "ipython",
    "version": 3
   },
   "file_extension": ".py",
   "mimetype": "text/x-python",
   "name": "python",
   "nbconvert_exporter": "python",
   "pygments_lexer": "ipython3",
   "version": "3.10.6"
  }
 },
 "nbformat": 4,
 "nbformat_minor": 5
}
