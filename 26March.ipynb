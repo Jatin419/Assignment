{
 "cells": [
  {
   "cell_type": "code",
   "execution_count": null,
   "id": "9f6582d5-6e7e-4369-ae8e-01402fee793b",
   "metadata": {},
   "outputs": [],
   "source": [
    "#Ans1.\n",
    "Simple Linear Regression:\n",
    "Simple linear regression is a statistical method used to model the relationship between two variables: a dependent variable and an independent variable. It assumes a linear relationship between the variables, meaning that the change in the dependent variable can be explained by a constant slope multiplied by the independent variable, plus an error term.\n",
    "\n",
    "Example:\n",
    "    Let's consider a simple example where we want to predict a person's weight (dependent variable) based on their height (independent variable). We collect data from a sample of individuals, measuring their heights and corresponding weights. By applying simple linear regression to this data, we can determine the linear relationship between height and weight, estimating the slope and intercept of the regression line. \n",
    "\n",
    "Multiple Linear Regression:\n",
    "Multiple linear regression extends the concept of simple linear regression by incorporating multiple independent variables to predict the dependent variable. Instead of just one independent variable, multiple linear regression considers a linear combination of several independent variables to model their collective impact on the dependent variable.\n",
    "\n",
    "Example:\n",
    "    Let's expand on the previous example by including additional independent variables to predict a person's weight. Now, in addition to height, we also consider variables like age, gender, and body fat percentage. By applying multiple linear regression to the dataset containing these variables, we can estimate the coefficients for each independent variable, representing their respective impact on the dependent variable (weight).\n"
   ]
  },
  {
   "cell_type": "code",
   "execution_count": null,
   "id": "0751f627-97bf-4fd9-bb34-ff3c97a52f2c",
   "metadata": {},
   "outputs": [],
   "source": [
    "#Ans2.\n",
    "Linear regression relies on several assumptions to ensure the validity and reliability of the model. These assumptions are as follows:\n",
    "    \n",
    "1.Linearity: The relationship between the independent variables and the dependent variable is assumed to be linear. This means that the change in the dependent variable is a constant multiple of the change in the independent variables. To check this assumption, you can create scatter plots of the variables and visually inspect if they exhibit a linear pattern. \n",
    "2.Independence: The observations in the dataset are assumed to be independent of each other. This means that there is no correlation or dependence between the residuals (the differences between the predicted and observed values) of the model.\n",
    "3.Normality: The residuals follow a normal distribution with a mean of zero. This assumption is important for hypothesis testing and constructing confidence intervals. You can examine the normality assumption by creating a histogram or a Q-Q plot of the residuals and checking if they approximate a bell-shaped curve.\n"
   ]
  },
  {
   "cell_type": "code",
   "execution_count": null,
   "id": "466e9a72-af00-437a-b298-0930d6e27745",
   "metadata": {},
   "outputs": [],
   "source": [
    "#Ans3.\n",
    "In a linear regression model, the slope and intercept have specific interpretations:\n",
    "\n",
    "1.Intercept (Intercept coefficient or constant term):\n",
    "-->The intercept represents the value of the dependent variable when all independent variables are zero. It indicates the expected or average value of the dependent variable when there is no influence from the independent variables.\n",
    "\n",
    "2.Slope (Coefficient of the independent variable):\n",
    "The slope represents the change in the dependent variable associated with a one-unit change in the independent variable while holding other variables constant. It indicates the direction and magnitude of the relationship between the independent variable and the dependent variable.\n"
   ]
  },
  {
   "cell_type": "code",
   "execution_count": null,
   "id": "02c7b8ca-4440-41ce-97e2-39e380a7e72f",
   "metadata": {},
   "outputs": [],
   "source": [
    "#Ans4.\n",
    "Gradient descent is an optimization algorithm used in machine learning to minimize the loss or error of a model by adjusting its parameters.\n",
    "The basic idea behind gradient descent is to start with an initial set of parameter values and then iteratively update them by taking steps proportional to the negative gradient of the loss function.\n",
    "\n"
   ]
  },
  {
   "cell_type": "code",
   "execution_count": null,
   "id": "40b3ef52-6ac6-4fdc-bd2e-fc9767214ebe",
   "metadata": {},
   "outputs": [],
   "source": [
    "#Ans5.\n",
    "Multiple linear regression is an extension of simple linear regression that allows for the prediction of a dependent variable using multiple independent variables. In simple linear regression,\n",
    "\n",
    "The multiple linear regression model can be represented by the following equation:\n",
    "\n",
    "Y = β₀ + β₁X₁ + β₂X₂ + ... + βₚXₚ + ε\n",
    "\n",
    "Number of independent variables: Simple linear regression only has one independent variable, while multiple linear regression can have multiple independent variables.\n",
    "Assumptions: Simple linear regression makes the assumption that the relationship between the independent and dependent variables is linear.\n"
   ]
  },
  {
   "cell_type": "code",
   "execution_count": null,
   "id": "d0d6527a-2d34-45ee-ba97-a409135a29fc",
   "metadata": {},
   "outputs": [],
   "source": [
    "#Ans8.\n",
    "Advantages of Polynomial Regression over Linear Regression:\n",
    "    1.Capturing Non-linear Relationships: Polynomial regression can capture non-linear patterns and relationships between the independent and dependent variables.\n",
    "    2.Improved Model Fit: By incorporating higher-order terms (e.g., X², X³) in the model, polynomial regression can provide a closer fit to the data compared to linear regression. \n",
    "Disadvantages:\n",
    "    1.Overfitting: Polynomial regression models with high degrees of polynomial terms are prone to overfitting. \n",
    "    2.Complexity and Interpretability: As the degree of the polynomial increases, the model becomes more complex and difficult to interpret.\n",
    "    \n",
    "Situations :\n",
    "    1.Non-linear Relationships:     \n",
    "    2.Feature Engineering:\n",
    "    "
   ]
  },
  {
   "cell_type": "code",
   "execution_count": null,
   "id": "a113e655-5913-43a0-b5ab-abf3cfebdb73",
   "metadata": {},
   "outputs": [],
   "source": [
    "#Ans7.\n",
    "Polynomial regression is a type of regression analysis that models the relationship between the independent variable(s) and the dependent variable as an nth-degree polynomial. \n",
    "\n",
    "In polynomial regression, the model can be represented as:\n",
    "\n",
    "Y = β₀ + β₁X + β₂X² + ... + βₙXⁿ + ε\n",
    "\n",
    "Main differences between linear regression and polynomial regression are:\n",
    "1.Linearity\n",
    "2.Model complexity\n",
    "3.Model selection"
   ]
  },
  {
   "cell_type": "code",
   "execution_count": null,
   "id": "d7bba760-e2bc-4901-a9ba-c408e388c4b0",
   "metadata": {},
   "outputs": [],
   "source": [
    "#Ans6.\n",
    "Multicollinearity refers to a high correlation or linear relationship among independent variables in a multiple linear regression model. It occurs when two or more independent variables are highly interrelated, making it difficult to distinguish their individual effects on the dependent variable. \n",
    "\n",
    "There are several methods to detect multicollinearity in a multiple linear regression model:\n",
    "\n",
    "1.Correlation Matrix\n",
    "2.Variance Inflation Factor (VIF)\n",
    "3.Tolerance"
   ]
  }
 ],
 "metadata": {
  "kernelspec": {
   "display_name": "Python 3 (ipykernel)",
   "language": "python",
   "name": "python3"
  },
  "language_info": {
   "codemirror_mode": {
    "name": "ipython",
    "version": 3
   },
   "file_extension": ".py",
   "mimetype": "text/x-python",
   "name": "python",
   "nbconvert_exporter": "python",
   "pygments_lexer": "ipython3",
   "version": "3.10.6"
  }
 },
 "nbformat": 4,
 "nbformat_minor": 5
}
