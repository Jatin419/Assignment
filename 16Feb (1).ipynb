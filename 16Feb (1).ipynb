{
 "cells": [
  {
   "cell_type": "code",
   "execution_count": null,
   "id": "7c7c9662-b68c-444c-934e-af0aa42833c3",
   "metadata": {},
   "outputs": [],
   "source": [
    "#Ans1.\n",
    "A database is an organized collection of data, so that it can be easily accessed and managed.You can organize data into tables, rows, columns, and index it to make it easier to find relevant information.\n",
    "SQL:\n",
    "    1.Databases are categorized as Relational Database Management System (RDBMS).\n",
    "    2.SQL databases are vertically scalable.\n",
    "    3.SQL databases display data in form of tables so it is known as table-based database.\n",
    "    4.SQL databases have fixed or static or predefined schema.\n",
    "    5.MySQL, Oracle, Sqlite, PostgreSQL and MS-SQL etc. are the example of SQL database.\n",
    "NOSQL:\n",
    "    1.NoSQL databases are categorized as Non-relational or distributed database system.\n",
    "    2.NoSQL databases are horizontally scalable.\n",
    "    3.NoSQL databases display data as collection of key-value pair, documents, graph databases or wide-column stores.\n",
    "    4.NoSQL databases have dynamic schema.\n",
    "    5.MongoDB, BigTable, Redis, RavenDB, Cassandra, Hbase, Neo4j, CouchDB etc. are the example of nosql database"
   ]
  },
  {
   "cell_type": "code",
   "execution_count": null,
   "id": "776c2a88-0f52-4f92-9129-2938ca8a2389",
   "metadata": {},
   "outputs": [],
   "source": [
    "#Ans2.\n",
    "DDL stands for Data Definition Language. It is a subset of SQL (Structured Query Language) that is used to define the structure of a database and the objects within it. DDL statements are used to create, modify,\n",
    "and delete database objects such as tables, indexes, views, and stored procedures.\n",
    "\n",
    "The commands that comes under DDL are:\n",
    "    1.Create-CREATE It is used to create a new table in the database.\n",
    "Ex-\n",
    "    CREATE TABLE Shop (\n",
    "    Shop_no INT PRIMARY KEY,\n",
    "    Shop_name VARCHAR(50),\n",
    "    email VARCHAR(100)\n",
    "    );\n",
    "    \n",
    "    2.DROP: It is used to delete both the structure and record stored in the table.\n",
    "Ex-\n",
    "    DROP TABLE Employee;\n",
    "    \n",
    "    3. ALTER-It is used to alter the structure of the database. This change could be either to modify the characteristics of an existing attribute or probably to add a new attribute.\n",
    "Ex- \n",
    "    ALTER TABLE employees\n",
    "    ADD COLUMN phone VARCHAR(20);\n",
    "   \n",
    "    4.TRUNCATE: It is used to delete all the rows from the table and free the space containing the table.\n",
    "Ex-\n",
    "    TRUNCATE TABLE Shop;  "
   ]
  },
  {
   "cell_type": "code",
   "execution_count": null,
   "id": "ce2cf6da-8dfe-4653-bd51-26fb626d4f1f",
   "metadata": {},
   "outputs": [],
   "source": [
    "#Ans3.\n",
    "DML stands for Data Manipulation Language.The DML commands in Structured Query Language change the data present in the SQL database. \n",
    "We can easily access, store, modify, update and delete the existing records from the database using DML commands.\n",
    "\n",
    "The four main DML commands in SQL:\n",
    "\n",
    "1.INSERT Command\n",
    "2.UPDATE Command\n",
    "3.DELETE Command\n",
    "\n",
    "1.Insert-INSERT is the  most important data manipulation command in Structured Query Language, which allows users to insert data in database tables.\n",
    "Ex-   INSERT INTO employees (first_name, last_name, salary)\n",
    "      VALUES ('John', 'Doe', 60000);\n",
    "\n",
    "2.Update-UPDATE is another most important data manipulation command in Structured Query Language, which allows users to update or modify the existing data in database tables.\n",
    "Ex-   UPDATE employees\n",
    "      SET salary = 65000\n",
    "      WHERE last_name = 'Doe';\n",
    "\n",
    "3.Delete-DELETE is a DML command which allows SQL users to remove single or multiple existing records from the database tables\n",
    "Ex-   DELETE FROM employees\n",
    "      WHERE last_name = 'Doe';\n"
   ]
  },
  {
   "cell_type": "code",
   "execution_count": null,
   "id": "faeeb554-95b4-4c8f-9eab-b66a1f7a6dc7",
   "metadata": {},
   "outputs": [],
   "source": [
    "#Ans4.\n",
    "DQL stands for Data Query Language. It is a subset of SQL (Structured Query Language) that is used to retrieve data from a database. \n",
    "\n",
    "SELECT is a DQL statement that is used to retrieve data from one or more tables in a database.\n",
    "Ex-  SELECT * FROM employees;\n",
    "\n",
    "This statement retrieves all of the data from the \"employees\" table in the database."
   ]
  },
  {
   "cell_type": "code",
   "execution_count": 1,
   "id": "a7abf75a-306b-4b0e-8eb7-4fb19fc7e8c5",
   "metadata": {},
   "outputs": [
    {
     "ename": "SyntaxError",
     "evalue": "invalid syntax (1256014203.py, line 2)",
     "output_type": "error",
     "traceback": [
      "\u001b[0;36m  Cell \u001b[0;32mIn [1], line 2\u001b[0;36m\u001b[0m\n\u001b[0;31m    Primary Key-\u001b[0m\n\u001b[0m            ^\u001b[0m\n\u001b[0;31mSyntaxError\u001b[0m\u001b[0;31m:\u001b[0m invalid syntax\n"
     ]
    }
   ],
   "source": [
    "#Ans5.\n",
    "Primary Key-\n",
    "The primary key is a unique or non-null key that uniquely identifies every record in a table or relation. \n",
    "Each database needs a unique identifier for every row of a table, and the primary key plays a vital role in identifying rows in the table uniquely.\n",
    "\n",
    "Foregin Key-\n",
    "The foreign key is a group of one or more columns in a database to uniquely identify another database record in some other table to maintain the referential integrity."
   ]
  },
  {
   "cell_type": "code",
   "execution_count": null,
   "id": "df33c280-13e5-42b4-955a-585643c22cce",
   "metadata": {},
   "outputs": [],
   "source": [
    "#Ans6.\n",
    "To connect to a MySQL database using Python, we have need to install the mysql-connector-python module.\n",
    "\n",
    "import mysql.connector\n",
    "# import mysql.connector\n",
    "#create user 'user'@'%' identified by 'password'\n",
    "mydb = mysql.connector.connect(\n",
    "  host=\"localhost\",\n",
    "  user=\"abc\",\n",
    "  password=\"password\"\n",
    ")\n",
    "print(mydb)\n",
    "mycursor = mydb.cursor()\n",
    "mycursor.execute(\"SHOW DATABASES\")\n",
    "for x in mycursor:\n",
    "  print(x)\n",
    "\n",
    "1.Cursor Method -\n",
    "The cursor() method is used to create a cursor object, which is used to interact with the database\n",
    "\n",
    "2.Excecute Method-\n",
    "The execute() method is used to execute a SQL query on the database. You can execute any SQL statement, such as SELECT, INSERT, UPDATE, DELETE, etc., by passing the statement as a string argument to the execute() method.\n"
   ]
  },
  {
   "cell_type": "code",
   "execution_count": null,
   "id": "2ce7987c-b4e5-4530-9d84-3b212161abe4",
   "metadata": {},
   "outputs": [],
   "source": [
    "#Ans7.\n",
    "The order of execution of SQL clauses in an SQL query are-\n",
    "\n",
    "1.SELECT\n",
    "2.FROM\n",
    "3.JOIN (if applicable)\n",
    "4.WHERE\n",
    "5.GROUP BY\n",
    "6.HAVING\n",
    "7.ORDER BY"
   ]
  }
 ],
 "metadata": {
  "kernelspec": {
   "display_name": "Python 3 (ipykernel)",
   "language": "python",
   "name": "python3"
  },
  "language_info": {
   "codemirror_mode": {
    "name": "ipython",
    "version": 3
   },
   "file_extension": ".py",
   "mimetype": "text/x-python",
   "name": "python",
   "nbconvert_exporter": "python",
   "pygments_lexer": "ipython3",
   "version": "3.10.6"
  }
 },
 "nbformat": 4,
 "nbformat_minor": 5
}
