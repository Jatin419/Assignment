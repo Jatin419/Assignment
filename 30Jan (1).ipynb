{
 "cells": [
  {
   "cell_type": "code",
   "execution_count": null,
   "id": "32e70517-ddfc-42f2-83ce-ce8ca27e66a6",
   "metadata": {},
   "outputs": [],
   "source": [
    "#Ans3.\n",
    "city = input(\"Enter a city name: \")\n",
    "\n",
    "if city.lower() == \"delhi\":\n",
    "    print(\"The monument of Delhi is Red Fort.\")\n",
    "elif city.lower() == \"agra\":\n",
    "    print(\"The monument of Agra is Taj Mahal.\")\n",
    "elif city.lower() == \"jaipur\":\n",
    "    print(\"The monument of Jaipur is Hawa Mahal.\")\n",
    "else:\n",
    "    print(\"Sorry, we don't have information on the monument of that city.\")"
   ]
  },
  {
   "cell_type": "code",
   "execution_count": 15,
   "id": "9d861b8d-bfe4-44d4-b8d5-02bc7e374bd4",
   "metadata": {},
   "outputs": [
    {
     "name": "stdin",
     "output_type": "stream",
     "text": [
      "Enter the marks:   100\n"
     ]
    },
    {
     "name": "stdout",
     "output_type": "stream",
     "text": [
      "A Grade\n"
     ]
    }
   ],
   "source": [
    "#Ans1.\n",
    "percentage = int(input(\"Enter the marks:  \"))\n",
    "\n",
    "if percentage > 90:\n",
    "    print(\"A Grade\")\n",
    "elif percentage >80 & percentage<=90:\n",
    "    print(\"B Grade\")\n",
    "elif percentage >= 60 & percentage<=80:\n",
    "    print(\"C Grade\")\n",
    "else:\n",
    "    print(\"D Grade\")\n"
   ]
  },
  {
   "cell_type": "code",
   "execution_count": 16,
   "id": "434f24b4-2fc8-4c2b-a910-12d68b1f1fff",
   "metadata": {},
   "outputs": [
    {
     "name": "stdin",
     "output_type": "stream",
     "text": [
      "Enter the costPrice:  150000\n"
     ]
    },
    {
     "name": "stdout",
     "output_type": "stream",
     "text": [
      "Road tax is 5% \n"
     ]
    }
   ],
   "source": [
    "#Ans2.\n",
    "costPrice = int(input(\"Enter the costPrice: \"))\n",
    "\n",
    "if costPrice > 1000000:\n",
    "    print(\"Road tax is 15% \")\n",
    "elif costPrice >500000 and costPrice <= 1000000:\n",
    "    print(\"Road tax is 10% \")\n",
    "elif costPrice <=500000:\n",
    "    print(\"Road tax is 5% \")\n",
    "else:\n",
    "    print(\"Invalid\")"
   ]
  },
  {
   "cell_type": "code",
   "execution_count": null,
   "id": "7cb46b0c-e267-4f18-82fb-e7906628085b",
   "metadata": {},
   "outputs": [],
   "source": [
    "#Ans4.\n",
    "number = int(input(\"Enter a number: \"))\n",
    "count = 0\n",
    "\n",
    "while number > 10:\n",
    "    number = number // 3\n",
    "    count += 1\n",
    "\n",
    "print(f\"The number can be divided by 3 {count} times before it is less than or equal to 10.\")\n"
   ]
  },
  {
   "cell_type": "code",
   "execution_count": null,
   "id": "2411b039-c0b4-4308-a4ca-608a326e8c49",
   "metadata": {},
   "outputs": [],
   "source": [
    "#Ans5.\n",
    "Python while loop is used to run a block code until a certain condition is met.\n",
    "i = 1\n",
    "n = 5\n",
    "\n",
    "while i <= n:\n",
    "    print(i)\n",
    "    i = i + 1"
   ]
  },
  {
   "cell_type": "code",
   "execution_count": null,
   "id": "bb872298-9b7e-41b1-8bf7-9ad1ceb64088",
   "metadata": {},
   "outputs": [],
   "source": [
    "#Ans6.\n",
    "i = 1\n",
    "while i <= 5:\n",
    "    j = 1\n",
    "    while j <= i:\n",
    "        print(\"*\", end=\"\")\n",
    "        j += 1\n",
    "    print()\n",
    "    i += 1\n"
   ]
  },
  {
   "cell_type": "code",
   "execution_count": null,
   "id": "ef142eb0-290c-439b-af15-0883746d6236",
   "metadata": {},
   "outputs": [],
   "source": [
    "#Ans7.\n"
   ]
  }
 ],
 "metadata": {
  "kernelspec": {
   "display_name": "Python 3 (ipykernel)",
   "language": "python",
   "name": "python3"
  },
  "language_info": {
   "codemirror_mode": {
    "name": "ipython",
    "version": 3
   },
   "file_extension": ".py",
   "mimetype": "text/x-python",
   "name": "python",
   "nbconvert_exporter": "python",
   "pygments_lexer": "ipython3",
   "version": "3.10.6"
  }
 },
 "nbformat": 4,
 "nbformat_minor": 5
}
