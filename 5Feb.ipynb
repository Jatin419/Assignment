{
 "cells": [
  {
   "cell_type": "code",
   "execution_count": 1,
   "id": "563c4254-95e7-4984-8bd9-89e766ae0b35",
   "metadata": {},
   "outputs": [
    {
     "name": "stdout",
     "output_type": "stream",
     "text": [
      "Romeo is 10 years old\n",
      "Rocky is 15 years old\n"
     ]
    }
   ],
   "source": [
    "#Ans1.\n",
    "Object − Objects have states and behaviors. \n",
    "Example: A dog has states - color, name, breed as well as behaviors – wagging the tail, barking, eating. \n",
    "An object is an instance of a class.\n",
    "\n",
    "Class − A class can be defined as a template/blueprint that describes the behavior/state that the object of its type support.\n",
    "class Tiger:\n",
    "\n",
    "    name = \"\"\n",
    "    age = 0\n",
    "\n",
    "Tiger1 = Tiger()\n",
    "Tiger1.name = \"Romeo\"\n",
    "Tiger1.age = 10\n",
    "\n",
    "Tiger2 = Tiger()\n",
    "Tiger2.name = \"Rocky\"\n",
    "Tiger2.age = 15\n",
    "\n",
    "print(f\"{Tiger1.name} is {Tiger1.age} years old\")\n",
    "print(f\"{Tiger2.name} is {Tiger2.age} years old\")"
   ]
  },
  {
   "cell_type": "code",
   "execution_count": null,
   "id": "007c1924-2537-4e0e-a279-742c7a350752",
   "metadata": {},
   "outputs": [],
   "source": [
    "#Ans2.\n",
    "The four pillar of oops are:\n",
    "    1.Abtraction\n",
    "    2.Encapsulation\n",
    "    3.Polymorphism\n",
    "    4.Inheritance"
   ]
  },
  {
   "cell_type": "code",
   "execution_count": 3,
   "id": "83a774e5-d82d-4f1e-8b32-343a7977bf53",
   "metadata": {},
   "outputs": [
    {
     "name": "stdout",
     "output_type": "stream",
     "text": [
      "John\n",
      "5\n"
     ]
    }
   ],
   "source": [
    "#Ans3.\n",
    "__init__() function to assign values to object properties, or other operations that are necessary to do when the object is being created\n",
    "\n",
    "class Tiger:\n",
    "  def __init__(self, name, age):\n",
    "    self.name = name\n",
    "    self.age = age\n",
    "\n",
    "Tiger1 = Tiger(\"John\", 5)\n",
    "\n",
    "print(Tiger1.name)\n",
    "print(Tiger1.age)\n"
   ]
  },
  {
   "cell_type": "code",
   "execution_count": null,
   "id": "265740a3-c178-4ae7-8a3a-137b589f23d7",
   "metadata": {},
   "outputs": [],
   "source": [
    "#Ans4.\n",
    "The self parameter is a reference to the current instance of the class, and is used to access variables that belongs to the class."
   ]
  },
  {
   "cell_type": "code",
   "execution_count": 5,
   "id": "0a4783f3-2af7-4815-81eb-9905514fabec",
   "metadata": {},
   "outputs": [
    {
     "name": "stdout",
     "output_type": "stream",
     "text": [
      "<__main__.Rectangle object at 0x7fdf8a72cd60>\n"
     ]
    }
   ],
   "source": [
    "# #Ans5.\n",
    "Inheritance is a fundamental concept in Object-Oriented Programming (OOPs) that allows a class to inherit properties and methods from its parent class. Inheritance helps to reuse code, reduces code redundancy, and makes it easy to maintain the codebase.\n",
    "\n",
    "Single Inheritance-\n",
    "This is the simplest form of inheritance, where a class inherits from a single parent class. \n",
    "class Animal:\n",
    "    def __init__(self, name):\n",
    "        self.name = name\n",
    "\n",
    "    def speak(self):\n",
    "        print(\"Animal speaks\")\n",
    "\n",
    "class Dog(Animal):\n",
    "    def __init__(self, name):\n",
    "        super().__init__(name)\n",
    "\n",
    "    def speak(self):\n",
    "        print(\"Dog barks\")\n",
    "\n",
    "dog1 = Dog(\"Buddy\")\n",
    "print(dog1.name)     \n",
    "dog1.speak()         \n",
    "\n",
    "Multiple inheritance: \n",
    "This is a type of inheritance where a class inherits from more than one parent class.\n",
    "The child class inherits all the attributes and methods of all the parent classes\n",
    "\n",
    "class Vehicle:\n",
    "    def __init__(self, name):\n",
    "        self.name = name\n",
    "\n",
    "    def start(self):\n",
    "        print(\"Vehicle started\")\n",
    "\n",
    "class Flyable:\n",
    "    def fly(self):\n",
    "        print(\"Can fly\")\n",
    "\n",
    "class Aeroplane(Vehicle, Flyable):\n",
    "    def __init__(self, name):\n",
    "        super().__init__(name)\n",
    "\n",
    "    def fly(self):\n",
    "        print(\"Aeroplane flying\")\n",
    "\n",
    "plane1 = Aeroplane(\"Boeing 747\")\n",
    "print(plane1.name)    \n",
    "plane1.start()        \n",
    "plane1.fly()          \n",
    "\n",
    "Hierarchical inheritance:\n",
    "This is a type of inheritance where a class inherits from a single parent class, but multiple child classes inherit from the same parent class\n",
    "\n",
    "class Shape:\n",
    "    def area(self):\n",
    "        print(\"Area not defined\")\n",
    "\n",
    "class Rectangle(Shape):\n",
    "    def __init__(self, width, height):\n",
    "        self.width = width\n",
    "        self.height = height\n",
    "\n",
    "    def area(self):\n",
    "        return self.width * self.height\n",
    "\n",
    "class Circle(Shape):\n",
    "    def __init__(self, radius):\n",
    "        self.radius = radius\n",
    "\n",
    "    def area(self):\n",
    "        return 3.14 * self.radius * self.radius\n",
    "\n",
    "rect1 = Rectangle(5, 10)\n",
    "circle1 = Circle(7)\n",
    "\n",
    "print(rect1)\n"
   ]
  }
 ],
 "metadata": {
  "kernelspec": {
   "display_name": "Python 3 (ipykernel)",
   "language": "python",
   "name": "python3"
  },
  "language_info": {
   "codemirror_mode": {
    "name": "ipython",
    "version": 3
   },
   "file_extension": ".py",
   "mimetype": "text/x-python",
   "name": "python",
   "nbconvert_exporter": "python",
   "pygments_lexer": "ipython3",
   "version": "3.10.6"
  }
 },
 "nbformat": 4,
 "nbformat_minor": 5
}
