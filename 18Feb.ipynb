{
 "cells": [
  {
   "cell_type": "code",
   "execution_count": null,
   "id": "0b2e9f6f-3772-4fd1-b4ca-da087e615496",
   "metadata": {},
   "outputs": [],
   "source": [
    "#Ans1.\n",
    "API (Application Programming Interface) is a set of protocols, routines, and tools for building software applications.\n",
    "It provides a standardized way for different applications to communicate and exchange data with each other.\n",
    "Real life examples of API are- \n",
    "The Google Maps API allows developers to integrate Google Maps into their applications, providing access to features such as search, directions, and location data"
   ]
  },
  {
   "cell_type": "code",
   "execution_count": null,
   "id": "f38cfd3d-c663-4841-9894-3e60a7317aaf",
   "metadata": {},
   "outputs": [],
   "source": [
    "#Ans2.\n",
    "Advantages of API are -\n",
    "1.Increased efficiency: APIs allow developers to access pre-built codeand functionality,\n",
    "which can save time and reduce development costs.\n",
    "2.Better user experience: APIs enable developers to create more personalized and responsive user \n",
    "experiences by leveraging data and functionality from other applications and services.\n",
    "3.Increased innovation: APIs can enable developers to quickly and easily create new applications\n",
    "and services by leveraging existing functionality and data.\n",
    "\n",
    "Disadvantages of API-\n",
    "1.Security risks: APIs can introduce security risks if not properly secured, potentially exposing sensitive data and functionality to unauthorized users.\n",
    "2.Complexity: APIs can be complex to design, develop, and maintain, requiring specialized skills and expertise.\n",
    "3.Cost: APIs can require significant investments in terms of development, maintenance, and infrastructure costs, which may not be feasible for all businesses."
   ]
  },
  {
   "cell_type": "code",
   "execution_count": null,
   "id": "e3151e53-2c65-48ba-9c64-ff105bdb4dce",
   "metadata": {},
   "outputs": [],
   "source": [
    "#Ans3.\n",
    "Web API-\n",
    "A Web API, specifically, is an API that is designed to be used over the internet. It allows different applications to interact with each other using HTTP requests and responses. \n",
    "A Web API typically uses the REST architectural style, but it can also use other protocols such as SOAP.\n",
    "Web API-\n",
    "1.All web Services are API.\n",
    "2.Its supports XML.\n",
    "3.It can be used by any client who understoods XML.\n",
    "API-\n",
    "1.All API are not web services.\n",
    "2.Responces are form"
   ]
  },
  {
   "cell_type": "code",
   "execution_count": null,
   "id": "9fb097d6-8f26-48d2-8482-768146b08c7f",
   "metadata": {},
   "outputs": [],
   "source": [
    "#Ans4.\n",
    "-->SOAP (Simple Object Access Protocol) is a standards-based web services access protocol that has been around for a long time. \n",
    "   Originally developed by Microsoft, SOAP isn’t as simple as the acronym would suggest.\n",
    "-->This protocol can be carried over multiple transfer methods like HTTP and SMTP. Its data structure is based on XML and since it's\n",
    "   largely human readable, it makes it easier to understand a SOAP message.\n",
    "\n",
    "-->REST (Representational State Transfer) is another standard, made in response to SOAP’s shortcomings. \n",
    "-->It seeks to fix the problems with SOAP and provide a simpler method of accessing web services.\n",
    "   When HTTP is used in a transition, as it most commonly is, the GET, HEAD, POST, PUT, PATCH, DELETE, CONNECT, OPTIONS and TRACE operations are available.\n",
    "\n",
    "Shortcomming of SOAP are:\n",
    "    1.Highly complex-\n",
    "    In comparison to Rest, SOAP is significantly more complex. It's also less flexible. \n",
    "    This might present a challenge for developers that are not highly skilled. \n",
    "    The extensive processing required may also slow down performance.\n",
    "    \n",
    "    2.Uses more bandwidth-\n",
    "    SOAP is generally slower in comparison to Rest and it also uses more bandwidth given its very complex nature.  \n",
    "    It’s another limiting factor in the efficacy of this technology for certain projects.\n",
    "    \n",
    "    3.Overhead- \n",
    "    SOAP messages are typically larger than RESTful messages, which can result in slower performance and increased bandwidth usage."
   ]
  },
  {
   "cell_type": "code",
   "execution_count": null,
   "id": "15c683a4-1046-41e6-ae25-57053e7ffab6",
   "metadata": {},
   "outputs": [],
   "source": [
    "#Ans5.\n",
    "REST:\n",
    "    1.REST stands for Representation State Tranfer.\n",
    "    2.An architectural protocol.\n",
    "    3.Uses JSON or XML to send data.\n",
    "    4.RESTful web services inherites security measures from the underlaying transport.\n",
    "    5.REST requires less bandwidth.\n",
    "SOAP:\n",
    "    1.SOAP Stands for Simple Object Access Protocol.\n",
    "    2.An XML based message protocol.\n",
    "    3.Uses WSDL for communicate between consumer and provider.\n",
    "    4.SOAP defines its own security.\n",
    "    5.SOAP requires more bandwidth."
   ]
  }
 ],
 "metadata": {
  "kernelspec": {
   "display_name": "Python 3 (ipykernel)",
   "language": "python",
   "name": "python3"
  },
  "language_info": {
   "codemirror_mode": {
    "name": "ipython",
    "version": 3
   },
   "file_extension": ".py",
   "mimetype": "text/x-python",
   "name": "python",
   "nbconvert_exporter": "python",
   "pygments_lexer": "ipython3",
   "version": "3.10.6"
  }
 },
 "nbformat": 4,
 "nbformat_minor": 5
}
